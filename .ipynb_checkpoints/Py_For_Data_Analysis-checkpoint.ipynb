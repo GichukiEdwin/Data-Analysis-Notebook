{
 "cells": [
  {
   "cell_type": "markdown",
   "id": "d8a506c4-e60c-411b-b954-0b4cac0fed77",
   "metadata": {},
   "source": [
    "# Getting started with Pandas\n",
    "+ Pandas is a major tool of interest in data analysis\n",
    "+ Pandas contains data structures and data manipulation tools designed to make data cleaning and analysis fast and easy in Python\n",
    "+ It is often used in tandem with numerical computing tools like NumPy and SciPy, analytical libraries like statsmodels and scikit-learn, data visualisation libraries like matplotlib.\n",
    "+ While Pandas adopts many coding idioms for Numpy, the biggest difference is that pandas is designed for working with tanular or heterogeneous data\n",
    "+ Numpy, by contrast is best suited for working with homogeneous numerical array data\n",
    "+ Pandas has two workhorses data structures\n",
    "    1. ***Series***\n",
    "       - a 1D array-like object containing a sequence of values\n",
    "       - a series is displayed interactively showing the index on the left and the values on the right\n",
    "       - you can create a series with an index identifying each data point with a label\n",
    "            ```\n",
    "            obj2=pd.Series([4,7,-5,3],index=['d','b','a','c'])\n",
    "            obj2.index\n",
    "\n",
    "            # Output\n",
    "            Index(['d', 'b', 'a', 'c'], dtype='object')\n",
    "            ```\n",
    "        - here ['d', 'b', 'a', 'c'] is interpreted as a list of indices even though it contains strings instead of ints\n",
    "        - when you have data contained in a dict, you can create a series from it by passing a dict\n",
    "            ```\n",
    "            sdata={'Ohio':35000,'Texas':71000,'Oregon':16000,'Utah':5000}\n",
    "            obj3=pd.Series(sdata)\n",
    "\n",
    "            # Output\n",
    "            Ohio      35000\n",
    "            Texas     71000\n",
    "            Oregon    16000\n",
    "            Utah       5000\n",
    "            dtype: int64\n",
    "            ```\n",
    "        - when you only pass a dict, the index in the resulting series will have the dict's keys in sorted order, you can override this by passing the dict keys in the order you want them to appear\n",
    "            ```\n",
    "            states=['California','Ohio','Oregon','Texas']\n",
    "            obj4=pd.Series(sdata,index=states)\n",
    "            ```\n",
    "    2. ***DataFrame***\n",
    "        - a DataFrame represents a rectangular table of data and contains an ordered collection of columns, each of which can be a different value type(numeric, string, boolean, etc)\n",
    "        - the DataFrame has both a row and column index\n",
    "        - it can be thought of as a dict of Series all sharing the same index\n",
    "        - under the hood, the data is stored as one or more 2D blocks rather than a dict, list or some other collection of 1D arrays"
   ]
  },
  {
   "cell_type": "code",
   "execution_count": 2,
   "id": "de44f9be",
   "metadata": {},
   "outputs": [
    {
     "data": {
      "text/plain": [
       "Index(['d', 'b', 'a', 'c'], dtype='object')"
      ]
     },
     "execution_count": 2,
     "metadata": {},
     "output_type": "execute_result"
    }
   ],
   "source": [
    "import pandas as pd\n",
    "\n",
    "obj=pd.Series([4,7,-5,3])\n",
    "# obj\n",
    "obj.values\n",
    "# obj.index\n",
    "\n",
    "#? creating a series with an index identifying each data point with a label\n",
    "obj2=pd.Series([4,7,-5,3],index=['d','b','a','c'])\n",
    "obj2\n",
    "obj2.index"
   ]
  },
  {
   "cell_type": "code",
   "execution_count": 22,
   "id": "1c4c6e33",
   "metadata": {},
   "outputs": [
    {
     "data": {
      "text/plain": [
       "Ohio      35000\n",
       "Texas     71000\n",
       "Oregon    16000\n",
       "Utah       5000\n",
       "dtype: int64"
      ]
     },
     "execution_count": 22,
     "metadata": {},
     "output_type": "execute_result"
    }
   ],
   "source": [
    "\n",
    "#? creating a series from a dictionary\n",
    "\n",
    "sdata={'Ohio':35000,'Texas':71000,'Oregon':16000,'Utah':5000}\n",
    "obj3=pd.Series(sdata)\n",
    "obj3"
   ]
  },
  {
   "cell_type": "code",
   "execution_count": 21,
   "id": "f825f2f8",
   "metadata": {},
   "outputs": [
    {
     "data": {
      "text/plain": [
       "California        NaN\n",
       "Ohio          35000.0\n",
       "Oregon        16000.0\n",
       "Texas         71000.0\n",
       "dtype: float64"
      ]
     },
     "execution_count": 21,
     "metadata": {},
     "output_type": "execute_result"
    }
   ],
   "source": [
    "\n",
    "#? creating a series from a dictionary with an index\n",
    "states=['California','Ohio','Oregon','Texas']\n",
    "obj4=pd.Series(sdata,index=states)\n",
    "obj4"
   ]
  },
  {
   "cell_type": "code",
   "execution_count": 23,
   "id": "4fb85c07",
   "metadata": {},
   "outputs": [
    {
     "data": {
      "text/plain": [
       "California     True\n",
       "Ohio          False\n",
       "Oregon        False\n",
       "Texas         False\n",
       "dtype: bool"
      ]
     },
     "execution_count": 23,
     "metadata": {},
     "output_type": "execute_result"
    }
   ],
   "source": [
    "\n",
    "#? detecting missing data using isnull()\n",
    "pd.isnull(obj4)"
   ]
  },
  {
   "cell_type": "code",
   "execution_count": 24,
   "id": "3878bc38",
   "metadata": {},
   "outputs": [
    {
     "data": {
      "text/plain": [
       "California    False\n",
       "Ohio           True\n",
       "Oregon         True\n",
       "Texas          True\n",
       "dtype: bool"
      ]
     },
     "execution_count": 24,
     "metadata": {},
     "output_type": "execute_result"
    }
   ],
   "source": [
    "\n",
    "#? detecting missing data using notnull()\n",
    "pd.notnull(obj4)"
   ]
  },
  {
   "cell_type": "code",
   "execution_count": 25,
   "id": "328dbf1a",
   "metadata": {},
   "outputs": [
    {
     "data": {
      "text/plain": [
       "California     True\n",
       "Ohio          False\n",
       "Oregon        False\n",
       "Texas         False\n",
       "dtype: bool"
      ]
     },
     "execution_count": 25,
     "metadata": {},
     "output_type": "execute_result"
    }
   ],
   "source": [
    "\n",
    "#? detecting missing data using instance method\n",
    "obj4.isnull()"
   ]
  },
  {
   "cell_type": "code",
   "execution_count": 26,
   "id": "fb30bc99",
   "metadata": {},
   "outputs": [],
   "source": [
    "# adding a name to the series object using the name attribute\n",
    "obj4.name='population'"
   ]
  },
  {
   "cell_type": "code",
   "execution_count": 27,
   "id": "409f0916",
   "metadata": {},
   "outputs": [],
   "source": [
    "# adding a name to the index using the index.name attribute\n",
    "obj4.index.name='state'"
   ]
  },
  {
   "cell_type": "code",
   "execution_count": 28,
   "id": "c5b5302a",
   "metadata": {},
   "outputs": [
    {
     "data": {
      "text/plain": [
       "state\n",
       "California        NaN\n",
       "Ohio          35000.0\n",
       "Oregon        16000.0\n",
       "Texas         71000.0\n",
       "Name: population, dtype: float64"
      ]
     },
     "execution_count": 28,
     "metadata": {},
     "output_type": "execute_result"
    }
   ],
   "source": [
    "obj4"
   ]
  },
  {
   "cell_type": "code",
   "execution_count": 29,
   "id": "62565866",
   "metadata": {},
   "outputs": [
    {
     "data": {
      "text/plain": [
       "0    4\n",
       "1    7\n",
       "2   -5\n",
       "3    3\n",
       "dtype: int64"
      ]
     },
     "execution_count": 29,
     "metadata": {},
     "output_type": "execute_result"
    }
   ],
   "source": [
    "obj"
   ]
  },
  {
   "cell_type": "code",
   "execution_count": 30,
   "id": "9cc3a0dd",
   "metadata": {},
   "outputs": [
    {
     "data": {
      "text/plain": [
       "Bob      4\n",
       "Steve    7\n",
       "Jeff    -5\n",
       "Ryan     3\n",
       "dtype: int64"
      ]
     },
     "execution_count": 30,
     "metadata": {},
     "output_type": "execute_result"
    }
   ],
   "source": [
    "# altering the index of a series in-place by assignment\n",
    "obj.index=['Bob','Steve','Jeff','Ryan']\n",
    "obj"
   ]
  },
  {
   "cell_type": "markdown",
   "id": "504047c7",
   "metadata": {},
   "source": [
    "#### constructing a DataFrame\n",
    "1. from a dict of equal-length lists\n",
    "2. from NumPy array\n",
    "+ the `head()` method selects only the first five rows\n",
    "+ you can specify the sequence of columns and the DataFrame's columns will be arranged in that order"
   ]
  },
  {
   "cell_type": "code",
   "execution_count": 3,
   "id": "d315ee10",
   "metadata": {},
   "outputs": [
    {
     "data": {
      "text/html": [
       "<div>\n",
       "<style scoped>\n",
       "    .dataframe tbody tr th:only-of-type {\n",
       "        vertical-align: middle;\n",
       "    }\n",
       "\n",
       "    .dataframe tbody tr th {\n",
       "        vertical-align: top;\n",
       "    }\n",
       "\n",
       "    .dataframe thead th {\n",
       "        text-align: right;\n",
       "    }\n",
       "</style>\n",
       "<table border=\"1\" class=\"dataframe\">\n",
       "  <thead>\n",
       "    <tr style=\"text-align: right;\">\n",
       "      <th></th>\n",
       "      <th>establishment_number</th>\n",
       "      <th>company</th>\n",
       "      <th>city</th>\n",
       "      <th>state</th>\n",
       "      <th>zip</th>\n",
       "      <th>activity</th>\n",
       "    </tr>\n",
       "  </thead>\n",
       "  <tbody>\n",
       "    <tr>\n",
       "      <th>0</th>\n",
       "      <td>M7335</td>\n",
       "      <td>Ara Food Corp.</td>\n",
       "      <td>Miami</td>\n",
       "      <td>FL</td>\n",
       "      <td>33101</td>\n",
       "      <td>Meat Processing</td>\n",
       "    </tr>\n",
       "    <tr>\n",
       "      <th>1</th>\n",
       "      <td>M22001+P22001</td>\n",
       "      <td>Arapahoe Foods Inc.</td>\n",
       "      <td>Lafayette</td>\n",
       "      <td>LA</td>\n",
       "      <td>70506</td>\n",
       "      <td>Meat Processing</td>\n",
       "    </tr>\n",
       "    <tr>\n",
       "      <th>2</th>\n",
       "      <td>I34311</td>\n",
       "      <td>Paden Cold Inc,</td>\n",
       "      <td>Norfolk</td>\n",
       "      <td>VA</td>\n",
       "      <td>23505</td>\n",
       "      <td>Meat Processing, Poultry Processing</td>\n",
       "    </tr>\n",
       "    <tr>\n",
       "      <th>3</th>\n",
       "      <td>M108+P51+V108</td>\n",
       "      <td>Bay Valley Foods</td>\n",
       "      <td>Pittsburgh</td>\n",
       "      <td>PA</td>\n",
       "      <td>15212</td>\n",
       "      <td>Imported Food</td>\n",
       "    </tr>\n",
       "    <tr>\n",
       "      <th>4</th>\n",
       "      <td>M5687+P5687</td>\n",
       "      <td>Bay View Packing Co.</td>\n",
       "      <td>Milwaukee</td>\n",
       "      <td>WI</td>\n",
       "      <td>53209</td>\n",
       "      <td>Imported Food</td>\n",
       "    </tr>\n",
       "  </tbody>\n",
       "</table>\n",
       "</div>"
      ],
      "text/plain": [
       "  establishment_number               company        city state    zip  \\\n",
       "0                M7335        Ara Food Corp.       Miami    FL  33101   \n",
       "1        M22001+P22001   Arapahoe Foods Inc.   Lafayette    LA  70506   \n",
       "2               I34311       Paden Cold Inc,     Norfolk    VA  23505   \n",
       "3        M108+P51+V108      Bay Valley Foods  Pittsburgh    PA  15212   \n",
       "4          M5687+P5687  Bay View Packing Co.   Milwaukee    WI  53209   \n",
       "\n",
       "                              activity  \n",
       "0                      Meat Processing  \n",
       "1                      Meat Processing  \n",
       "2  Meat Processing, Poultry Processing  \n",
       "3                        Imported Food  \n",
       "4                        Imported Food  "
      ]
     },
     "execution_count": 3,
     "metadata": {},
     "output_type": "execute_result"
    }
   ],
   "source": [
    "# creating a dataframe from a dictionary\n",
    "establishment={'establishment_number':['M7335','M22001+P22001','I34311','M108+P51+V108','M5687+P5687'],'company':['Ara Food Corp.','Arapahoe Foods Inc.','Paden Cold Inc,','Bay Valley Foods','Bay View Packing Co.'], 'city':['Miami','Lafayette','Norfolk','Pittsburgh','Milwaukee'], 'state':['FL','LA','VA','PA','WI'],'zip':['33101','70506','23505','15212','53209'],'activity':['Meat Processing','Meat Processing','Meat Processing, Poultry Processing','Imported Food','Imported Food']}\n",
    "df=pd.DataFrame(establishment)\n",
    "df.head()"
   ]
  },
  {
   "cell_type": "code",
   "execution_count": 34,
   "id": "df37c452",
   "metadata": {},
   "outputs": [
    {
     "data": {
      "text/html": [
       "<div>\n",
       "<style scoped>\n",
       "    .dataframe tbody tr th:only-of-type {\n",
       "        vertical-align: middle;\n",
       "    }\n",
       "\n",
       "    .dataframe tbody tr th {\n",
       "        vertical-align: top;\n",
       "    }\n",
       "\n",
       "    .dataframe thead th {\n",
       "        text-align: right;\n",
       "    }\n",
       "</style>\n",
       "<table border=\"1\" class=\"dataframe\">\n",
       "  <thead>\n",
       "    <tr style=\"text-align: right;\">\n",
       "      <th></th>\n",
       "      <th>state</th>\n",
       "      <th>company</th>\n",
       "      <th>activity</th>\n",
       "      <th>city</th>\n",
       "      <th>zip</th>\n",
       "    </tr>\n",
       "  </thead>\n",
       "  <tbody>\n",
       "    <tr>\n",
       "      <th>0</th>\n",
       "      <td>FL</td>\n",
       "      <td>Ara Food Corp.</td>\n",
       "      <td>Meat Processing</td>\n",
       "      <td>Miami</td>\n",
       "      <td>33101</td>\n",
       "    </tr>\n",
       "    <tr>\n",
       "      <th>1</th>\n",
       "      <td>LA</td>\n",
       "      <td>Arapahoe Foods Inc.</td>\n",
       "      <td>Meat Processing</td>\n",
       "      <td>Lafayette</td>\n",
       "      <td>70506</td>\n",
       "    </tr>\n",
       "    <tr>\n",
       "      <th>2</th>\n",
       "      <td>VA</td>\n",
       "      <td>Paden Cold Inc,</td>\n",
       "      <td>Meat Processing, Poultry Processing</td>\n",
       "      <td>Norfolk</td>\n",
       "      <td>23505</td>\n",
       "    </tr>\n",
       "    <tr>\n",
       "      <th>3</th>\n",
       "      <td>PA</td>\n",
       "      <td>Bay Valley Foods</td>\n",
       "      <td>Imported Food</td>\n",
       "      <td>Pittsburgh</td>\n",
       "      <td>15212</td>\n",
       "    </tr>\n",
       "    <tr>\n",
       "      <th>4</th>\n",
       "      <td>WI</td>\n",
       "      <td>Bay View Packing Co.</td>\n",
       "      <td>Imported Food</td>\n",
       "      <td>Milwaukee</td>\n",
       "      <td>53209</td>\n",
       "    </tr>\n",
       "  </tbody>\n",
       "</table>\n",
       "</div>"
      ],
      "text/plain": [
       "  state               company                             activity  \\\n",
       "0    FL        Ara Food Corp.                      Meat Processing   \n",
       "1    LA   Arapahoe Foods Inc.                      Meat Processing   \n",
       "2    VA       Paden Cold Inc,  Meat Processing, Poultry Processing   \n",
       "3    PA      Bay Valley Foods                        Imported Food   \n",
       "4    WI  Bay View Packing Co.                        Imported Food   \n",
       "\n",
       "         city    zip  \n",
       "0       Miami  33101  \n",
       "1   Lafayette  70506  \n",
       "2     Norfolk  23505  \n",
       "3  Pittsburgh  15212  \n",
       "4   Milwaukee  53209  "
      ]
     },
     "execution_count": 34,
     "metadata": {},
     "output_type": "execute_result"
    }
   ],
   "source": [
    "# specifying a sequence of columns\n",
    "df_one=pd.DataFrame(establishment, columns=['state','company','activity','city','zip'])\n",
    "df_one.head()"
   ]
  },
  {
   "cell_type": "code",
   "execution_count": 5,
   "id": "cd5c4d38",
   "metadata": {},
   "outputs": [
    {
     "data": {
      "text/html": [
       "<div>\n",
       "<style scoped>\n",
       "    .dataframe tbody tr th:only-of-type {\n",
       "        vertical-align: middle;\n",
       "    }\n",
       "\n",
       "    .dataframe tbody tr th {\n",
       "        vertical-align: top;\n",
       "    }\n",
       "\n",
       "    .dataframe thead th {\n",
       "        text-align: right;\n",
       "    }\n",
       "</style>\n",
       "<table border=\"1\" class=\"dataframe\">\n",
       "  <thead>\n",
       "    <tr style=\"text-align: right;\">\n",
       "      <th></th>\n",
       "      <th>establishment_number</th>\n",
       "      <th>state</th>\n",
       "      <th>company</th>\n",
       "      <th>activity</th>\n",
       "      <th>city</th>\n",
       "      <th>zip</th>\n",
       "      <th>inspection_deadline</th>\n",
       "    </tr>\n",
       "  </thead>\n",
       "  <tbody>\n",
       "    <tr>\n",
       "      <th>C1</th>\n",
       "      <td>M7335</td>\n",
       "      <td>FL</td>\n",
       "      <td>Ara Food Corp.</td>\n",
       "      <td>Meat Processing</td>\n",
       "      <td>Miami</td>\n",
       "      <td>33101</td>\n",
       "      <td>NaN</td>\n",
       "    </tr>\n",
       "    <tr>\n",
       "      <th>C2</th>\n",
       "      <td>M22001+P22001</td>\n",
       "      <td>LA</td>\n",
       "      <td>Arapahoe Foods Inc.</td>\n",
       "      <td>Meat Processing</td>\n",
       "      <td>Lafayette</td>\n",
       "      <td>70506</td>\n",
       "      <td>NaN</td>\n",
       "    </tr>\n",
       "    <tr>\n",
       "      <th>C3</th>\n",
       "      <td>I34311</td>\n",
       "      <td>VA</td>\n",
       "      <td>Paden Cold Inc,</td>\n",
       "      <td>Meat Processing, Poultry Processing</td>\n",
       "      <td>Norfolk</td>\n",
       "      <td>23505</td>\n",
       "      <td>NaN</td>\n",
       "    </tr>\n",
       "    <tr>\n",
       "      <th>C4</th>\n",
       "      <td>M108+P51+V108</td>\n",
       "      <td>PA</td>\n",
       "      <td>Bay Valley Foods</td>\n",
       "      <td>Imported Food</td>\n",
       "      <td>Pittsburgh</td>\n",
       "      <td>15212</td>\n",
       "      <td>NaN</td>\n",
       "    </tr>\n",
       "    <tr>\n",
       "      <th>C5</th>\n",
       "      <td>M5687+P5687</td>\n",
       "      <td>WI</td>\n",
       "      <td>Bay View Packing Co.</td>\n",
       "      <td>Imported Food</td>\n",
       "      <td>Milwaukee</td>\n",
       "      <td>53209</td>\n",
       "      <td>NaN</td>\n",
       "    </tr>\n",
       "  </tbody>\n",
       "</table>\n",
       "</div>"
      ],
      "text/plain": [
       "   establishment_number state               company  \\\n",
       "C1                M7335    FL        Ara Food Corp.   \n",
       "C2        M22001+P22001    LA   Arapahoe Foods Inc.   \n",
       "C3               I34311    VA       Paden Cold Inc,   \n",
       "C4        M108+P51+V108    PA      Bay Valley Foods   \n",
       "C5          M5687+P5687    WI  Bay View Packing Co.   \n",
       "\n",
       "                               activity        city    zip inspection_deadline  \n",
       "C1                      Meat Processing       Miami  33101                 NaN  \n",
       "C2                      Meat Processing   Lafayette  70506                 NaN  \n",
       "C3  Meat Processing, Poultry Processing     Norfolk  23505                 NaN  \n",
       "C4                        Imported Food  Pittsburgh  15212                 NaN  \n",
       "C5                        Imported Food   Milwaukee  53209                 NaN  "
      ]
     },
     "execution_count": 5,
     "metadata": {},
     "output_type": "execute_result"
    }
   ],
   "source": [
    "# specifying an index passing a column that doesn't exist in the dict appears with missing values\n",
    "df_two=pd.DataFrame(establishment, columns=['establishment_number','state','company','activity','city','zip','inspection_deadline'], index=['C1','C2','C3','C4','C5'])\n",
    "df_two.head()"
   ]
  },
  {
   "cell_type": "code",
   "execution_count": 6,
   "id": "441348d8",
   "metadata": {},
   "outputs": [
    {
     "data": {
      "text/plain": [
       "C1          Ara Food Corp.\n",
       "C2     Arapahoe Foods Inc.\n",
       "C3         Paden Cold Inc,\n",
       "C4        Bay Valley Foods\n",
       "C5    Bay View Packing Co.\n",
       "Name: company, dtype: object"
      ]
     },
     "execution_count": 6,
     "metadata": {},
     "output_type": "execute_result"
    }
   ],
   "source": [
    "# retrieving a column as a series by dict-like notation\n",
    "df_two['company'].head()"
   ]
  },
  {
   "cell_type": "code",
   "execution_count": 7,
   "id": "6ec3f888",
   "metadata": {},
   "outputs": [
    {
     "data": {
      "text/html": [
       "<div>\n",
       "<style scoped>\n",
       "    .dataframe tbody tr th:only-of-type {\n",
       "        vertical-align: middle;\n",
       "    }\n",
       "\n",
       "    .dataframe tbody tr th {\n",
       "        vertical-align: top;\n",
       "    }\n",
       "\n",
       "    .dataframe thead th {\n",
       "        text-align: right;\n",
       "    }\n",
       "</style>\n",
       "<table border=\"1\" class=\"dataframe\">\n",
       "  <thead>\n",
       "    <tr style=\"text-align: right;\">\n",
       "      <th></th>\n",
       "      <th>company</th>\n",
       "    </tr>\n",
       "  </thead>\n",
       "  <tbody>\n",
       "    <tr>\n",
       "      <th>C1</th>\n",
       "      <td>Ara Food Corp.</td>\n",
       "    </tr>\n",
       "    <tr>\n",
       "      <th>C2</th>\n",
       "      <td>Arapahoe Foods Inc.</td>\n",
       "    </tr>\n",
       "    <tr>\n",
       "      <th>C3</th>\n",
       "      <td>Paden Cold Inc,</td>\n",
       "    </tr>\n",
       "    <tr>\n",
       "      <th>C4</th>\n",
       "      <td>Bay Valley Foods</td>\n",
       "    </tr>\n",
       "    <tr>\n",
       "      <th>C5</th>\n",
       "      <td>Bay View Packing Co.</td>\n",
       "    </tr>\n",
       "  </tbody>\n",
       "</table>\n",
       "</div>"
      ],
      "text/plain": [
       "                 company\n",
       "C1        Ara Food Corp.\n",
       "C2   Arapahoe Foods Inc.\n",
       "C3       Paden Cold Inc,\n",
       "C4      Bay Valley Foods\n",
       "C5  Bay View Packing Co."
      ]
     },
     "execution_count": 7,
     "metadata": {},
     "output_type": "execute_result"
    }
   ],
   "source": [
    "df_two[['company']].head()"
   ]
  },
  {
   "cell_type": "code",
   "execution_count": 8,
   "id": "1e89b330",
   "metadata": {},
   "outputs": [
    {
     "data": {
      "text/plain": [
       "C1          Ara Food Corp.\n",
       "C2     Arapahoe Foods Inc.\n",
       "C3         Paden Cold Inc,\n",
       "C4        Bay Valley Foods\n",
       "C5    Bay View Packing Co.\n",
       "Name: company, dtype: object"
      ]
     },
     "execution_count": 8,
     "metadata": {},
     "output_type": "execute_result"
    }
   ],
   "source": [
    "# retrieving a column by attribute\n",
    "df_two.company"
   ]
  },
  {
   "cell_type": "code",
   "execution_count": 9,
   "id": "c044a96d",
   "metadata": {},
   "outputs": [
    {
     "data": {
      "text/plain": [
       "establishment_number              M7335\n",
       "state                                FL\n",
       "company                  Ara Food Corp.\n",
       "activity                Meat Processing\n",
       "city                              Miami\n",
       "zip                               33101\n",
       "inspection_deadline                 NaN\n",
       "Name: C1, dtype: object"
      ]
     },
     "execution_count": 9,
     "metadata": {},
     "output_type": "execute_result"
    }
   ],
   "source": [
    "# retrieving a row by position or name using iloc and loc attribute\n",
    "df_two.loc['C1']"
   ]
  },
  {
   "cell_type": "code",
   "execution_count": 11,
   "id": "0e771a71",
   "metadata": {},
   "outputs": [
    {
     "data": {
      "text/plain": [
       "establishment_number             M5687+P5687\n",
       "state                                     WI\n",
       "company                 Bay View Packing Co.\n",
       "activity                       Imported Food\n",
       "city                               Milwaukee\n",
       "zip                                    53209\n",
       "inspection_deadline               2024-12-31\n",
       "Name: C5, dtype: object"
      ]
     },
     "execution_count": 11,
     "metadata": {},
     "output_type": "execute_result"
    }
   ],
   "source": [
    "# accessing a row using the iloc attribute\n",
    "df_two.iloc[4]"
   ]
  },
  {
   "cell_type": "code",
   "execution_count": 10,
   "id": "3d1d532e",
   "metadata": {},
   "outputs": [
    {
     "data": {
      "text/html": [
       "<div>\n",
       "<style scoped>\n",
       "    .dataframe tbody tr th:only-of-type {\n",
       "        vertical-align: middle;\n",
       "    }\n",
       "\n",
       "    .dataframe tbody tr th {\n",
       "        vertical-align: top;\n",
       "    }\n",
       "\n",
       "    .dataframe thead th {\n",
       "        text-align: right;\n",
       "    }\n",
       "</style>\n",
       "<table border=\"1\" class=\"dataframe\">\n",
       "  <thead>\n",
       "    <tr style=\"text-align: right;\">\n",
       "      <th></th>\n",
       "      <th>establishment_number</th>\n",
       "      <th>state</th>\n",
       "      <th>company</th>\n",
       "      <th>activity</th>\n",
       "      <th>city</th>\n",
       "      <th>zip</th>\n",
       "      <th>inspection_deadline</th>\n",
       "    </tr>\n",
       "  </thead>\n",
       "  <tbody>\n",
       "    <tr>\n",
       "      <th>C1</th>\n",
       "      <td>M7335</td>\n",
       "      <td>FL</td>\n",
       "      <td>Ara Food Corp.</td>\n",
       "      <td>Meat Processing</td>\n",
       "      <td>Miami</td>\n",
       "      <td>33101</td>\n",
       "      <td>2024-12-31</td>\n",
       "    </tr>\n",
       "    <tr>\n",
       "      <th>C2</th>\n",
       "      <td>M22001+P22001</td>\n",
       "      <td>LA</td>\n",
       "      <td>Arapahoe Foods Inc.</td>\n",
       "      <td>Meat Processing</td>\n",
       "      <td>Lafayette</td>\n",
       "      <td>70506</td>\n",
       "      <td>2024-12-31</td>\n",
       "    </tr>\n",
       "    <tr>\n",
       "      <th>C3</th>\n",
       "      <td>I34311</td>\n",
       "      <td>VA</td>\n",
       "      <td>Paden Cold Inc,</td>\n",
       "      <td>Meat Processing, Poultry Processing</td>\n",
       "      <td>Norfolk</td>\n",
       "      <td>23505</td>\n",
       "      <td>2024-12-31</td>\n",
       "    </tr>\n",
       "    <tr>\n",
       "      <th>C4</th>\n",
       "      <td>M108+P51+V108</td>\n",
       "      <td>PA</td>\n",
       "      <td>Bay Valley Foods</td>\n",
       "      <td>Imported Food</td>\n",
       "      <td>Pittsburgh</td>\n",
       "      <td>15212</td>\n",
       "      <td>2024-12-31</td>\n",
       "    </tr>\n",
       "    <tr>\n",
       "      <th>C5</th>\n",
       "      <td>M5687+P5687</td>\n",
       "      <td>WI</td>\n",
       "      <td>Bay View Packing Co.</td>\n",
       "      <td>Imported Food</td>\n",
       "      <td>Milwaukee</td>\n",
       "      <td>53209</td>\n",
       "      <td>2024-12-31</td>\n",
       "    </tr>\n",
       "  </tbody>\n",
       "</table>\n",
       "</div>"
      ],
      "text/plain": [
       "   establishment_number state               company  \\\n",
       "C1                M7335    FL        Ara Food Corp.   \n",
       "C2        M22001+P22001    LA   Arapahoe Foods Inc.   \n",
       "C3               I34311    VA       Paden Cold Inc,   \n",
       "C4        M108+P51+V108    PA      Bay Valley Foods   \n",
       "C5          M5687+P5687    WI  Bay View Packing Co.   \n",
       "\n",
       "                               activity        city    zip inspection_deadline  \n",
       "C1                      Meat Processing       Miami  33101          2024-12-31  \n",
       "C2                      Meat Processing   Lafayette  70506          2024-12-31  \n",
       "C3  Meat Processing, Poultry Processing     Norfolk  23505          2024-12-31  \n",
       "C4                        Imported Food  Pittsburgh  15212          2024-12-31  \n",
       "C5                        Imported Food   Milwaukee  53209          2024-12-31  "
      ]
     },
     "execution_count": 10,
     "metadata": {},
     "output_type": "execute_result"
    }
   ],
   "source": [
    "# modifying columns in a dataframe by assignment\n",
    "df_two['inspection_deadline']='2024-12-31'\n",
    "df_two.head()"
   ]
  },
  {
   "cell_type": "code",
   "execution_count": 62,
   "id": "05e0094a",
   "metadata": {},
   "outputs": [
    {
     "data": {
      "text/plain": [
       "'2023-12-31'"
      ]
     },
     "execution_count": 62,
     "metadata": {},
     "output_type": "execute_result"
    }
   ],
   "source": [
    "# modifying a specific row in a dataframe using integer indexes\n",
    "df_two.iloc[1, 5]='2023-12-31'\n",
    "# df_two.head()\n",
    "df_two.iloc[1, 5]"
   ]
  },
  {
   "cell_type": "code",
   "execution_count": 12,
   "id": "158615b4",
   "metadata": {},
   "outputs": [
    {
     "data": {
      "text/plain": [
       "'2022-12-31'"
      ]
     },
     "execution_count": 12,
     "metadata": {},
     "output_type": "execute_result"
    }
   ],
   "source": [
    "# modifying a specific row with a custom index/label\n",
    "df_two.loc['C3', 'inspection_deadline']='2022-12-31'\n",
    "#df_two.head()\n",
    "df_two.loc['C3', 'inspection_deadline']"
   ]
  },
  {
   "cell_type": "code",
   "execution_count": 13,
   "id": "d56deaaf",
   "metadata": {},
   "outputs": [
    {
     "data": {
      "text/plain": [
       "'2025-12-31'"
      ]
     },
     "execution_count": 13,
     "metadata": {},
     "output_type": "execute_result"
    }
   ],
   "source": [
    "# or\n",
    "df_two.at['C4','inspection_deadline']='2025-12-31'\n",
    "#df_two.head()\n",
    "df_two.loc['C4','inspection_deadline']"
   ]
  },
  {
   "cell_type": "code",
   "execution_count": 14,
   "id": "4b20193e",
   "metadata": {},
   "outputs": [
    {
     "data": {
      "text/plain": [
       "establishment_number    object\n",
       "state                   object\n",
       "company                 object\n",
       "activity                object\n",
       "city                    object\n",
       "zip                     object\n",
       "inspection_deadline     object\n",
       "dtype: object"
      ]
     },
     "execution_count": 14,
     "metadata": {},
     "output_type": "execute_result"
    }
   ],
   "source": [
    "# checking for data types using the dtypes attribute\n",
    "df_two.dtypes"
   ]
  },
  {
   "cell_type": "code",
   "execution_count": 15,
   "id": "d1da8dad",
   "metadata": {},
   "outputs": [
    {
     "data": {
      "text/plain": [
       "establishment_number            object\n",
       "state                           object\n",
       "company                         object\n",
       "activity                        object\n",
       "city                            object\n",
       "zip                             object\n",
       "inspection_deadline     datetime64[ns]\n",
       "dtype: object"
      ]
     },
     "execution_count": 15,
     "metadata": {},
     "output_type": "execute_result"
    }
   ],
   "source": [
    "# type conversion\n",
    "df_two['inspection_deadline']=pd.to_datetime(df_two['inspection_deadline'])\n",
    "df_two.dtypes"
   ]
  },
  {
   "cell_type": "code",
   "execution_count": 16,
   "id": "542bdc92",
   "metadata": {},
   "outputs": [
    {
     "data": {
      "text/html": [
       "<div>\n",
       "<style scoped>\n",
       "    .dataframe tbody tr th:only-of-type {\n",
       "        vertical-align: middle;\n",
       "    }\n",
       "\n",
       "    .dataframe tbody tr th {\n",
       "        vertical-align: top;\n",
       "    }\n",
       "\n",
       "    .dataframe thead th {\n",
       "        text-align: right;\n",
       "    }\n",
       "</style>\n",
       "<table border=\"1\" class=\"dataframe\">\n",
       "  <thead>\n",
       "    <tr style=\"text-align: right;\">\n",
       "      <th></th>\n",
       "      <th>establishment_number</th>\n",
       "      <th>state</th>\n",
       "      <th>company</th>\n",
       "      <th>activity</th>\n",
       "      <th>city</th>\n",
       "      <th>zip</th>\n",
       "      <th>inspection_deadline</th>\n",
       "      <th>city_in</th>\n",
       "    </tr>\n",
       "  </thead>\n",
       "  <tbody>\n",
       "    <tr>\n",
       "      <th>C1</th>\n",
       "      <td>M7335</td>\n",
       "      <td>FL</td>\n",
       "      <td>Ara Food Corp.</td>\n",
       "      <td>Meat Processing</td>\n",
       "      <td>Miami</td>\n",
       "      <td>33101</td>\n",
       "      <td>2024-12-31</td>\n",
       "      <td>True</td>\n",
       "    </tr>\n",
       "    <tr>\n",
       "      <th>C2</th>\n",
       "      <td>M22001+P22001</td>\n",
       "      <td>LA</td>\n",
       "      <td>Arapahoe Foods Inc.</td>\n",
       "      <td>Meat Processing</td>\n",
       "      <td>Lafayette</td>\n",
       "      <td>70506</td>\n",
       "      <td>2024-12-31</td>\n",
       "      <td>False</td>\n",
       "    </tr>\n",
       "    <tr>\n",
       "      <th>C3</th>\n",
       "      <td>I34311</td>\n",
       "      <td>VA</td>\n",
       "      <td>Paden Cold Inc,</td>\n",
       "      <td>Meat Processing, Poultry Processing</td>\n",
       "      <td>Norfolk</td>\n",
       "      <td>23505</td>\n",
       "      <td>2022-12-31</td>\n",
       "      <td>False</td>\n",
       "    </tr>\n",
       "    <tr>\n",
       "      <th>C4</th>\n",
       "      <td>M108+P51+V108</td>\n",
       "      <td>PA</td>\n",
       "      <td>Bay Valley Foods</td>\n",
       "      <td>Imported Food</td>\n",
       "      <td>Pittsburgh</td>\n",
       "      <td>15212</td>\n",
       "      <td>2025-12-31</td>\n",
       "      <td>False</td>\n",
       "    </tr>\n",
       "    <tr>\n",
       "      <th>C5</th>\n",
       "      <td>M5687+P5687</td>\n",
       "      <td>WI</td>\n",
       "      <td>Bay View Packing Co.</td>\n",
       "      <td>Imported Food</td>\n",
       "      <td>Milwaukee</td>\n",
       "      <td>53209</td>\n",
       "      <td>2024-12-31</td>\n",
       "      <td>False</td>\n",
       "    </tr>\n",
       "  </tbody>\n",
       "</table>\n",
       "</div>"
      ],
      "text/plain": [
       "   establishment_number state               company  \\\n",
       "C1                M7335    FL        Ara Food Corp.   \n",
       "C2        M22001+P22001    LA   Arapahoe Foods Inc.   \n",
       "C3               I34311    VA       Paden Cold Inc,   \n",
       "C4        M108+P51+V108    PA      Bay Valley Foods   \n",
       "C5          M5687+P5687    WI  Bay View Packing Co.   \n",
       "\n",
       "                               activity        city    zip  \\\n",
       "C1                      Meat Processing       Miami  33101   \n",
       "C2                      Meat Processing   Lafayette  70506   \n",
       "C3  Meat Processing, Poultry Processing     Norfolk  23505   \n",
       "C4                        Imported Food  Pittsburgh  15212   \n",
       "C5                        Imported Food   Milwaukee  53209   \n",
       "\n",
       "   inspection_deadline  city_in  \n",
       "C1          2024-12-31     True  \n",
       "C2          2024-12-31    False  \n",
       "C3          2022-12-31    False  \n",
       "C4          2025-12-31    False  \n",
       "C5          2024-12-31    False  "
      ]
     },
     "execution_count": 16,
     "metadata": {},
     "output_type": "execute_result"
    }
   ],
   "source": [
    "# create a new column of boolean vals where city is equal to 'Miami'\n",
    "df_two['city_in'] = df_two.city == 'Miami'\n",
    "df_two.head()"
   ]
  },
  {
   "cell_type": "code",
   "execution_count": 17,
   "id": "3ec6dc77",
   "metadata": {},
   "outputs": [
    {
     "data": {
      "text/html": [
       "<div>\n",
       "<style scoped>\n",
       "    .dataframe tbody tr th:only-of-type {\n",
       "        vertical-align: middle;\n",
       "    }\n",
       "\n",
       "    .dataframe tbody tr th {\n",
       "        vertical-align: top;\n",
       "    }\n",
       "\n",
       "    .dataframe thead th {\n",
       "        text-align: right;\n",
       "    }\n",
       "</style>\n",
       "<table border=\"1\" class=\"dataframe\">\n",
       "  <thead>\n",
       "    <tr style=\"text-align: right;\">\n",
       "      <th></th>\n",
       "      <th>establishment_number</th>\n",
       "      <th>state</th>\n",
       "      <th>company</th>\n",
       "      <th>activity</th>\n",
       "      <th>city</th>\n",
       "      <th>zip</th>\n",
       "      <th>inspection_deadline</th>\n",
       "    </tr>\n",
       "  </thead>\n",
       "  <tbody>\n",
       "    <tr>\n",
       "      <th>C1</th>\n",
       "      <td>M7335</td>\n",
       "      <td>FL</td>\n",
       "      <td>Ara Food Corp.</td>\n",
       "      <td>Meat Processing</td>\n",
       "      <td>Miami</td>\n",
       "      <td>33101</td>\n",
       "      <td>2024-12-31</td>\n",
       "    </tr>\n",
       "    <tr>\n",
       "      <th>C2</th>\n",
       "      <td>M22001+P22001</td>\n",
       "      <td>LA</td>\n",
       "      <td>Arapahoe Foods Inc.</td>\n",
       "      <td>Meat Processing</td>\n",
       "      <td>Lafayette</td>\n",
       "      <td>70506</td>\n",
       "      <td>2024-12-31</td>\n",
       "    </tr>\n",
       "    <tr>\n",
       "      <th>C3</th>\n",
       "      <td>I34311</td>\n",
       "      <td>VA</td>\n",
       "      <td>Paden Cold Inc,</td>\n",
       "      <td>Meat Processing, Poultry Processing</td>\n",
       "      <td>Norfolk</td>\n",
       "      <td>23505</td>\n",
       "      <td>2022-12-31</td>\n",
       "    </tr>\n",
       "    <tr>\n",
       "      <th>C4</th>\n",
       "      <td>M108+P51+V108</td>\n",
       "      <td>PA</td>\n",
       "      <td>Bay Valley Foods</td>\n",
       "      <td>Imported Food</td>\n",
       "      <td>Pittsburgh</td>\n",
       "      <td>15212</td>\n",
       "      <td>2025-12-31</td>\n",
       "    </tr>\n",
       "    <tr>\n",
       "      <th>C5</th>\n",
       "      <td>M5687+P5687</td>\n",
       "      <td>WI</td>\n",
       "      <td>Bay View Packing Co.</td>\n",
       "      <td>Imported Food</td>\n",
       "      <td>Milwaukee</td>\n",
       "      <td>53209</td>\n",
       "      <td>2024-12-31</td>\n",
       "    </tr>\n",
       "  </tbody>\n",
       "</table>\n",
       "</div>"
      ],
      "text/plain": [
       "   establishment_number state               company  \\\n",
       "C1                M7335    FL        Ara Food Corp.   \n",
       "C2        M22001+P22001    LA   Arapahoe Foods Inc.   \n",
       "C3               I34311    VA       Paden Cold Inc,   \n",
       "C4        M108+P51+V108    PA      Bay Valley Foods   \n",
       "C5          M5687+P5687    WI  Bay View Packing Co.   \n",
       "\n",
       "                               activity        city    zip inspection_deadline  \n",
       "C1                      Meat Processing       Miami  33101          2024-12-31  \n",
       "C2                      Meat Processing   Lafayette  70506          2024-12-31  \n",
       "C3  Meat Processing, Poultry Processing     Norfolk  23505          2022-12-31  \n",
       "C4                        Imported Food  Pittsburgh  15212          2025-12-31  \n",
       "C5                        Imported Food   Milwaukee  53209          2024-12-31  "
      ]
     },
     "execution_count": 17,
     "metadata": {},
     "output_type": "execute_result"
    }
   ],
   "source": [
    "# deleting a column\n",
    "del df_two['city_in']\n",
    "df_two.head()"
   ]
  },
  {
   "cell_type": "markdown",
   "id": "ccffc688",
   "metadata": {},
   "source": [
    "#### constructing a DF with a nested dict of dicts\n",
    "+ if a nested dict is passed to the DataFrame, ***Pandas*** will interpret the outer dict keys as the columns and the inner keys as the row indices\n",
    "+ you can transpose the DF(swap rows and columns) with a similar syntax to a ***NumPy*** array\n",
    "    ```\n",
    "    df_three.T\n",
    "    ```"
   ]
  },
  {
   "cell_type": "code",
   "execution_count": 71,
   "id": "3bd62b94",
   "metadata": {},
   "outputs": [
    {
     "data": {
      "text/html": [
       "<div>\n",
       "<style scoped>\n",
       "    .dataframe tbody tr th:only-of-type {\n",
       "        vertical-align: middle;\n",
       "    }\n",
       "\n",
       "    .dataframe tbody tr th {\n",
       "        vertical-align: top;\n",
       "    }\n",
       "\n",
       "    .dataframe thead th {\n",
       "        text-align: right;\n",
       "    }\n",
       "</style>\n",
       "<table border=\"1\" class=\"dataframe\">\n",
       "  <thead>\n",
       "    <tr style=\"text-align: right;\">\n",
       "      <th></th>\n",
       "      <th>Nevada</th>\n",
       "      <th>Ohio</th>\n",
       "    </tr>\n",
       "  </thead>\n",
       "  <tbody>\n",
       "    <tr>\n",
       "      <th>2001</th>\n",
       "      <td>2.4</td>\n",
       "      <td>1.7</td>\n",
       "    </tr>\n",
       "    <tr>\n",
       "      <th>2002</th>\n",
       "      <td>2.9</td>\n",
       "      <td>3.6</td>\n",
       "    </tr>\n",
       "    <tr>\n",
       "      <th>2000</th>\n",
       "      <td>NaN</td>\n",
       "      <td>1.5</td>\n",
       "    </tr>\n",
       "  </tbody>\n",
       "</table>\n",
       "</div>"
      ],
      "text/plain": [
       "      Nevada  Ohio\n",
       "2001     2.4   1.7\n",
       "2002     2.9   3.6\n",
       "2000     NaN   1.5"
      ]
     },
     "execution_count": 71,
     "metadata": {},
     "output_type": "execute_result"
    }
   ],
   "source": [
    "pop={'Nevada':{2001:2.4, 2002:2.9}, 'Ohio':{2000:1.5, 2001:1.7, 2002:3.6}}\n",
    "df_three=pd.DataFrame(pop)\n",
    "df_three.head()"
   ]
  },
  {
   "cell_type": "code",
   "execution_count": 72,
   "id": "7e1d6d40",
   "metadata": {},
   "outputs": [
    {
     "data": {
      "text/html": [
       "<div>\n",
       "<style scoped>\n",
       "    .dataframe tbody tr th:only-of-type {\n",
       "        vertical-align: middle;\n",
       "    }\n",
       "\n",
       "    .dataframe tbody tr th {\n",
       "        vertical-align: top;\n",
       "    }\n",
       "\n",
       "    .dataframe thead th {\n",
       "        text-align: right;\n",
       "    }\n",
       "</style>\n",
       "<table border=\"1\" class=\"dataframe\">\n",
       "  <thead>\n",
       "    <tr style=\"text-align: right;\">\n",
       "      <th></th>\n",
       "      <th>2001</th>\n",
       "      <th>2002</th>\n",
       "      <th>2000</th>\n",
       "    </tr>\n",
       "  </thead>\n",
       "  <tbody>\n",
       "    <tr>\n",
       "      <th>Nevada</th>\n",
       "      <td>2.4</td>\n",
       "      <td>2.9</td>\n",
       "      <td>NaN</td>\n",
       "    </tr>\n",
       "    <tr>\n",
       "      <th>Ohio</th>\n",
       "      <td>1.7</td>\n",
       "      <td>3.6</td>\n",
       "      <td>1.5</td>\n",
       "    </tr>\n",
       "  </tbody>\n",
       "</table>\n",
       "</div>"
      ],
      "text/plain": [
       "        2001  2002  2000\n",
       "Nevada   2.4   2.9   NaN\n",
       "Ohio     1.7   3.6   1.5"
      ]
     },
     "execution_count": 72,
     "metadata": {},
     "output_type": "execute_result"
    }
   ],
   "source": [
    "# transposing a dataframe\n",
    "df_three.T"
   ]
  },
  {
   "cell_type": "code",
   "execution_count": 73,
   "id": "bc7a98db",
   "metadata": {},
   "outputs": [
    {
     "data": {
      "text/html": [
       "<div>\n",
       "<style scoped>\n",
       "    .dataframe tbody tr th:only-of-type {\n",
       "        vertical-align: middle;\n",
       "    }\n",
       "\n",
       "    .dataframe tbody tr th {\n",
       "        vertical-align: top;\n",
       "    }\n",
       "\n",
       "    .dataframe thead th {\n",
       "        text-align: right;\n",
       "    }\n",
       "</style>\n",
       "<table border=\"1\" class=\"dataframe\">\n",
       "  <thead>\n",
       "    <tr style=\"text-align: right;\">\n",
       "      <th></th>\n",
       "      <th>Ohio</th>\n",
       "      <th>Nevada</th>\n",
       "    </tr>\n",
       "  </thead>\n",
       "  <tbody>\n",
       "    <tr>\n",
       "      <th>2001</th>\n",
       "      <td>1.7</td>\n",
       "      <td>2.4</td>\n",
       "    </tr>\n",
       "    <tr>\n",
       "      <th>2002</th>\n",
       "      <td>3.6</td>\n",
       "      <td>2.9</td>\n",
       "    </tr>\n",
       "  </tbody>\n",
       "</table>\n",
       "</div>"
      ],
      "text/plain": [
       "      Ohio  Nevada\n",
       "2001   1.7     2.4\n",
       "2002   3.6     2.9"
      ]
     },
     "execution_count": 73,
     "metadata": {},
     "output_type": "execute_result"
    }
   ],
   "source": [
    "# dicts of series\n",
    "pdata={'Ohio':df_three['Ohio'][:-1], 'Nevada':df_three['Nevada'][:2]}\n",
    "df_four=pd.DataFrame(pdata)\n",
    "df_four.head()"
   ]
  },
  {
   "cell_type": "code",
   "execution_count": null,
   "id": "9451b4fd",
   "metadata": {},
   "outputs": [],
   "source": []
  }
 ],
 "metadata": {
  "kernelspec": {
   "display_name": "Python 3 (ipykernel)",
   "language": "python",
   "name": "python3"
  },
  "language_info": {
   "codemirror_mode": {
    "name": "ipython",
    "version": 3
   },
   "file_extension": ".py",
   "mimetype": "text/x-python",
   "name": "python",
   "nbconvert_exporter": "python",
   "pygments_lexer": "ipython3",
   "version": "3.12.4"
  }
 },
 "nbformat": 4,
 "nbformat_minor": 5
}

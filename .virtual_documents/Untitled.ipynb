import numpy as np
import pandas as pd
import seaborn as sns


age=[11,22,20,14,29,8,35,27,13,49,10,29,17]
ages=[18,34,76,29,15,41,46,26,54,38,20,32,43,22]
s1=pd.Series(age)
s2=pd.Series(ages)


s1.describe()


sns.boxplot(s1)


sns.histplot(s1)


s2.describe()




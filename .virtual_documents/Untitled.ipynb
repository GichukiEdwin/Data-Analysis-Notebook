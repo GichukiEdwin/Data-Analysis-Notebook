import pandas as pd
import numpy as np
import matplotlib.pyplot as plt
import seaborn as sns


df = pd.read_csv('us_counties_population_est_2019.csv')
df.head()




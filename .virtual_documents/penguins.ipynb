import pandas as pd
import seaborn as sns
import numpy as np
import matplotlib.pyplot as plt


df=sns.load_dataset('penguins')
df.head()


df.shape


df.isna().value_counts()


df.dropna(inplace=True)
df.shape


sns.set_style('darkgrid')


sns.histplot(df['bill_length_mm'])





sns.histplot(x='bill_length_mm',data=df)


sns.histplot(x='bill_length_mm',kde=True,data=df)


sns.kdeplot(df['bill_length_mm'],fill=True)


sns.histplot(x='bill_length_mm',kde=True,data=df,stat='density')







import pandas as pd

obj=pd.Series([4,7,-5,3])
# obj
obj.values
# obj.index

#? creating a series with an index identifying each data point with a label
obj2=pd.Series([4,7,-5,3],index=['d','b','a','c'])
obj2
obj2.index



#? creating a series from a dictionary

sdata={'Ohio':35000,'Texas':71000,'Oregon':16000,'Utah':5000}
obj3=pd.Series(sdata)
obj3



#? creating a series from a dictionary with an index
states=['California','Ohio','Oregon','Texas']
obj4=pd.Series(sdata,index=states)
obj4



#? detecting missing data using isnull()
pd.isnull(obj4)



#? detecting missing data using notnull()
pd.notnull(obj4)



#? detecting missing data using instance method
obj4.isnull()


# adding a name to the series object using the name attribute
obj4.name='population'


# adding a name to the index using the index.name attribute
obj4.index.name='state'


obj4


obj


# altering the index of a series in-place by assignment
obj.index=['Bob','Steve','Jeff','Ryan']
obj





# creating a dataframe from a dictionary
establishment={'company':['Ara Food Corp.','Arapahoe Foods Inc.','Paden Cold Inc,','Bay Valley Foods','Bay View Packing Co.'], 'city':['Miami','Lafayette','Norfolk','Pittsburgh','Milwaukee'], 'state':['FL','LA','VA','PA','WI'],'zip':['33101','70506','23505','15212','53209'],'activity':['Meat Processing','Meat Processing','Meat Processing, Poultry Processing','Imported Food','Imported Food']}
df=pd.DataFrame(establishment)
df.head()


# specifying a sequence of columns
df_one=pd.DataFrame(establishment, columns=['state','company','activity','city','zip'])
df_one.head()


# specifying an index passing a column that doesn't exist in the dict appears with missing values
df_two=pd.DataFrame(establishment, columns=['state','company','activity','city','zip','inspection_deadline'], index=['a','b','c','d','e'])
df_two.head()


# retrieving a column as a series by dict-like notation
df_two['company'].head()


df_two[['company']].head()


# retrieving a column by attribute
df_two.company


# retrieving a row by position or name using iloc and loc attribute
df_two.loc['a']


# accessing a row using the iloc attribute
df_two.iloc[4]


# modifying columns in a dataframe by assignment
df_two['inspection_deadline']='2024-12-31'
df_two.head()


# modifying a specific row in a dataframe using integer indexes
df_two.iloc[1, 5]='2023-12-31'
# df_two.head()
df_two.iloc[1, 5]


# modifying a specific row with a custom index/label
df_two.loc['c', 'inspection_deadline']='2022-12-31'
#df_two.head()
df_two.loc['c', 'inspection_deadline']


# or
df_two.at['d','inspection_deadline']='2025-12-31'
#df_two.head()
df_two.loc['d','inspection_deadline']


# checking for data types using the dtypes attribute
df_two.dtypes


# type conversion
df_two['inspection_deadline']=pd.to_datetime(df_two['inspection_deadline'])
df_two.dtypes


# create a new column of boolean vals where city is equal to 'Miami'
df_two['city_in'] = df_two.city == 'Miami'
df_two.head()


# deleting a column
del df_two['city_in']
df_two.head()





pop={'Nevada':{2001:2.4, 2002:2.9}, 'Ohio':{2000:1.5, 2001:1.7, 2002:3.6}}
df_three=pd.DataFrame(pop)
df_three.head()


# transposing a dataframe
df_three.T


# dicts of series
pdata={'Ohio':df_three['Ohio'][:-1], 'Nevada':df_three['Nevada'][:2]}
df_four=pd.DataFrame(pdata)
df_four.head()




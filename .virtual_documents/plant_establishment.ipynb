


import psycopg2
import pandas as pd

# Connect to PostgreSQL
conn = psycopg2.connect(
    dbname="postgres", 
    user="postgres", 
    password="0909", 
    host="localhost", 
    port="5435"
)

# SQL Query to get the data
sql = "SELECT * FROM us_counties_pop_est_2019"

# Load data into a pandas DataFrame
df = pd.read_sql(sql, conn)

# Close connection
conn.close()


df.head()

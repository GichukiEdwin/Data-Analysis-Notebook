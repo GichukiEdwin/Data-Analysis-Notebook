


# integer
print(age:=26)
# float
print(temp:=36.8)
# complex
number = 5 + 3j
print(number)
# string
language = "Python"
print(language)
# multi-line string
quote = """Always code as if the guy who ends up maintaining your code will be a violent psychopath who knows where you live.
-John Woods"""
print(quote)

username=input("Please enter your name: ")
age=input("Please enter your age: ")

print(f"Hello {username}! You are {age} years old.")





a=5
b=3
c=a+b
print("Addition is", c)

age=16
required_age=18
print(age>required_age)

# logical operators
x=True
y=False
print("x and y is", x and y)
print("x or y is", x or y)
print("not x is", not x)

# membership operators
language="Python"
print("x" in language)
print("z" in language)
print("x" not in language)

# identity operator
num1=5
num2=5
num3=10
print(id(num1))
print(id(num2))
print(id(num3))
print(num1 is num2)
print(num1 is not num2)
print(num1 is num3)
print(num1 is not num3)

# walrus operator 
# convectional way
name="John"
print(name)
# walrus way
name="John"
print(name:="Jake")





marks=int(input("Enter your marks: "))
if marks>=90:
    print("Grade - Excellent")
elif marks<90 and marks>=75:
    print("Grade - First class")
elif marks<75 and marks >=40:
    print("Grade - Average")
else:
    print("Grade - Fail")

# nested if-else
username=input("Enter your username: ")
password=input("Enter your password: ")
if username=="Gichuki":
    if password=="12345":
        print("Login successful")
    else:
        print("Incorrect password")
else:
    print("Incorrect username")

# traffic light example
light=input("Which color is the light indicating?: ")
if light=="green":
    print("Please keep going")
elif light=="yellow":
    print("Please go slow")
else:
    print("Please stop!")

# game example
user1=8
user2=5
user3=2
if(user1>user2) and (user1>user3):
    print("User one scored the highest points")
elif(user2>user1) and (user2>user3):
    print("User Two scored the highest points")
else:
    print("User Three scored the highest points")

# check if a number is even or odd
num=int(input("Enter a number: "))
if num%2==0:
    print("The number is even")
else:
    print("The number is odd")





# math module
import math
print(math.sqrt(16))
print(math.fabs(-5))
print(math.factorial(5))
print(math.pi)
print(math.floor(5.9))
print(math.ceil(5.9))
print(math.pow(2,5))
print(math.trunc(6.9999))

# trigometric functions
print(math.sin(90))
print(math.cos(90))
print(math.tan(90))

# constants
print(math.pi)
print(math.tau)
print(math.e)
print("Positive infinity: ",math.inf)
print("Negative infinity: ",-math.inf)

# random module
import random
# generate a random number between 0 and 1
print(random.random())
# generate a random number between 1 and 100
print(random.randint(1,100))
# generate a random number between 1 and 10
print(random.randrange(1,10))
# generate a random number between 1 and 10 with step size of 2
print(random.randrange(1,10,2))

# more examples on step size
print(random.randrange(1,10,3))
print(random.randrange(1,10,4))
print(random.randrange(1,10,5))
print(random.randrange(1,10,6))






import random
generated_number=random.randint(1,10)
user_guess=int(input("Guess a number between 1 and 10: "))
if user_guess==generated_number:
    print("You guessed it right!")
elif user_guess<generated_number:
    print("Your guess is too low. The number was",generated_number)
else:
    print("Your guess is too high. The number was",generated_number)







#! format() method
name=input("Enter your name:")
age=input("Enter your age:")
print("Hello {}! You are {} years old.".format(name,age))

#? f-string
name=input("Enter your name:")
age=input("Enter your age:")
print(f"Hello {name}! You are {age} years old.")

num1=5
num2=10
print(f"Five plus ten is {num1+num2}") 

#! accessing values
language="Python"
print(language[0])
print(language[3])

#?slicing
lname="Gichuki"
print(lname[:]) #? no slicing parameters provided, substring is egual to the original string
print(lname[::]) #? no slicing parameters provided, substring is egual to the original string
print(lname[0:3])
print(lname[2:4])
print(lname[3:])
print(lname[::6])
print(lname[0:6:3])

#! string concatenation
fname="Edwin"
lname="Gichuki"
fullname=fname+" "+lname
print(fullname)

name="Gichuki"
age=23
print("Hello "+name+"! You are "+str(age)+" years old.")

#? join() method
fname="Edwin"
lname="Gichuki"
print(" ".join([fname,lname]))

#! repitition
print("Gichuki"*3)
print("97"*3)

#? string methods
name="Gichuki"
print(name.islower())
print(name.isupper())
print(name.lower())
print(name.replace('i','a',1).replace('u','o'))
print(len(name))







#? range()
print(list(range(5))) # single argument signifies the end of the range(excluded)
print(list(range(1,5))) # start and end
print(list(range(1,10,3))) # start, end and step size

#! for loop
for i in range(3):
    print("Gichuki")

#? iterating over a string
for i in "Gichuki":
    print(i)

#! while loop
i=0
while i<3:
    print("Gichuki")
    i+=1

#? break statement
boarding_capacity=int(input("Enter the boarding capacity: "))
threshold=boarding_capacity*(50.0/100.0)
for i in range(0,boarding_capacity,10):
    if i>threshold:
        print('50% capacity reached')
        break
    else:
        print("Passenger onboarded:",i)






#? accessing elements in a list
names=["Edwin","Gichuki","Eduard","Jenny","Barry"]
print(names)
print(names[0])
print(names[2])

#! slicing
print(names)
print(names[0:3])
print(names[1:4])
print(names[2:])

#! sorting
names.sort()
print(names)
names.sort(key=len)
print(names)

#? update
marks=[56,76,54,89,90]
print(marks)
marks.sort()
print(marks)
marks[4]=100
print(marks)

seq=[7,2,3,7,5,6,0,1]
seq[3:4]=[6,3]
print(seq)

#! delete
names=["Edwin","Gichuki","Eduard","Jenny","Barry"]
print(names)
del names[1]
print(names)

#? iteration on lists
fruits=["apple","banana","cherry","kiwi","mango"]
for x in fruits:
    print(x)

#! checking for a value
fruits=["apple","banana","cherry","kiwi","mango"]
for i in fruits:
    if i=="banana":
        print("banana is in the list")
        break
    else:
        print("banana is not in the list")

#? functions
numbers=[23,34,45,56,67,78,89]
print(min(numbers))
print(max(numbers))
print(sum(numbers))
print(len(numbers))
print(sorted(numbers))
print(sorted(numbers,reverse=True))

#! list comprehension
even=[x for x in range(1,11) if x % 2 ==0]
print(even)

string="Hello, list"
characters_list=[x for x in string]
print(characters_list)







#? accessing and slicing elements of tuples
languages=("Python", "Java", "JavaScript", "Ruby", "Rust")
print(languages)
print(languages[3])

#! slicing
print(languages[1:4])

#? concatenation and repitition
tuple1=(1,2,3)
tuple2=(4,5,6)
print(tuple1+tuple2)
print(tuple1*2)

#! are you a member
print("Rust" in languages)
print("Go" in languages)

#? iterating over a tuple
for language in languages:
    print(language)

#? built-in functions and methods
numbers=(78,24,56,78,29,49,78)
print(len(numbers))
print(min(numbers))
print(max(numbers))
print(numbers.count(78))
print(numbers.index(29))




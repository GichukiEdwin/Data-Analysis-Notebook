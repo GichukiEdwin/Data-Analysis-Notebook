


# integer
print(age:=26)
# float
print(temp:=36.8)
# complex
number = 5 + 3j
print(number)
# string
language = "Python"
print(language)
# multi-line string
quote = """Always code as if the guy who ends up maintaining your code will be a violent psychopath who knows where you live.
-John Woods"""
print(quote)

username=input("Please enter your name: ")
age=input("Please enter your age: ")

print(f"Hello {username}! You are {age} years old.")





a=5
b=3
c=a+b
print("Addition is", c)

age=16
required_age=18
print(age>required_age)

# logical operators
x=True
y=False
print("x and y is", x and y)
print("x or y is", x or y)
print("not x is", not x)

# membership operators
language="Python"
print("x" in language)
print("z" in language)
print("x" not in language)

# identity operator
num1=5
num2=5
num3=10
print(id(num1))
print(id(num2))
print(id(num3))
print(num1 is num2)
print(num1 is not num2)
print(num1 is num3)
print(num1 is not num3)

# walrus operator 
# convectional way
name="John"
print(name)
# walrus way
name="John"
print(name:="Jake")





marks=int(input("Enter your marks: "))
if marks>=90:
    print("Grade - Excellent")
elif marks<90 and marks>=75:
    print("Grade - First class")
elif marks<75 and marks >=40:
    print("Grade - Average")
else:
    print("Grade - Fail")

# nested if-else
username=input("Enter your username: ")
password=input("Enter your password: ")
if username=="Gichuki":
    if password=="12345":
        print("Login successful")
    else:
        print("Incorrect password")
else:
    print("Incorrect username")

# traffic light example
light=input("Which color is the light indicating?: ")
if light=="green":
    print("Please keep going")
elif light=="yellow":
    print("Please go slow")
else:
    print("Please stop!")

# game example
user1=8
user2=5
user3=2
if(user1>user2) and (user1>user3):
    print("User one scored the highest points")
elif(user2>user1) and (user2>user3):
    print("User Two scored the highest points")
else:
    print("User Three scored the highest points")

# check if a number is even or odd
num=int(input("Enter a number: "))
if num%2==0:
    print("The number is even")
else:
    print("The number is odd")





# math module
import math
print(math.sqrt(16))
print(math.fabs(-5))
print(math.factorial(5))
print(math.pi)
print(math.floor(5.9))
print(math.ceil(5.9))
print(math.pow(2,5))
print(math.trunc(6.9999))

# trigometric functions
print(math.sin(90))
print(math.cos(90))
print(math.tan(90))

# constants
print(math.pi)
print(math.tau)
print(math.e)
print("Positive infinity: ",math.inf)
print("Negative infinity: ",-math.inf)

# random module
import random
# generate a random number between 0 and 1
print(random.random())
# generate a random number between 1 and 100
print(random.randint(1,100))
# generate a random number between 1 and 10
print(random.randrange(1,10))
# generate a random number between 1 and 10 with step size of 2
print(random.randrange(1,10,2))

# more examples on step size
print(random.randrange(1,10,3))
print(random.randrange(1,10,4))
print(random.randrange(1,10,5))
print(random.randrange(1,10,6))






import random
generated_number=random.randint(1,10)
user_guess=int(input("Guess a number between 1 and 10: "))
if user_guess==generated_number:
    print("You guessed it right!")
elif user_guess<generated_number:
    print("Your guess is too low. The number was",generated_number)
else:
    print("Your guess is too high. The number was",generated_number)





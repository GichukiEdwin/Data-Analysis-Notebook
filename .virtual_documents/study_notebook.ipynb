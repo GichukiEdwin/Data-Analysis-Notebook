


# integer
print(age:=26)
# float
print(temp:=36.8)
# complex
number = 5 + 3j
print(number)
# string
language = "Python"
print(language)
# multi-line string
quote = """Always code as if the guy who ends up maintaining your code will be a violent psychopath who knows where you live.
-John Woods"""
print(quote)

username=input("Please enter your name: ")
age=input("Please enter your age: ")

print(f"Hello {username}! You are {age} years old.")





a=5
b=3
c=a+b
print("Addition is", c)

age=16
required_age=18
print(age>required_age)

# logical operators
x=True
y=False
print("x and y is", x and y)
print("x or y is", x or y)
print("not x is", not x)

# membership operators
language="Python"
print("x" in language)
print("z" in language)
print("x" not in language)







import pandas as pd
import numpy as np
import matplotlib.pyplot as plt
import seaborn as sns


df=pd.read_csv('acs_2014_2018_stats.csv')
df.describe()





# Scatter plot: pct_bachelors_higher vs median_hh_income
plt.figure(figsize=(8, 6))
sns.scatterplot(x='pct_bachelors_higher', y='median_hh_income', data=df)
plt.title('Median Household Income vs. Percentage with Bachelor\'s or Higher')
plt.xlabel('Percentage with Bachelor\'s or Higher (%)')
plt.ylabel('Median Household Income ($)')
plt.grid(True)
plt.show()


# Scatter plot: pct_travel_60_min vs median_hh_income
plt.figure(figsize=(8, 6))
sns.scatterplot(x='pct_travel_60_min', y='median_hh_income', data=df)
plt.title('Median Household Income vs. Percentage Traveling 60+ Min')
plt.xlabel('Percentage Traveling 60+ Min (%)')
plt.ylabel('Median Household Income ($)')
plt.grid(True)
plt.show()



# Scatter plot: pct_travel_60_min vs pct_bachelors_higher
plt.figure(figsize=(8, 6))
sns.scatterplot(x='pct_travel_60_min', y='pct_bachelors_higher', data=df)
plt.title('Percentage Traveling 60+ Min vs. Percentage with Bachelor\'s or Higher')
plt.xlabel('Percentage Traveling 60+ Min (%)')
plt.ylabel('Percentage with Bachelor\'s or Higher (%)')
plt.grid(True)
plt.show()


# Extract the relevant columns
x = df['pct_bachelors_higher']  # Predictor (independent variable)
y = df['median_hh_income']      # Response (dependent variable)

# Check for NaN or infinite values and handle them
df = df.replace([np.inf, -np.inf], np.nan).dropna(subset=['pct_bachelors_higher', 'median_hh_income'])
# Calculate slope and intercept using numpy's polyfit function
slope, intercept = np.polyfit(x, y, 1)
# Print the slope and intercept
print(f"Regression Slope: {slope:.2f}")
print(f"Regression Intercept: {intercept:.2f}")


# Create the scatterplot with the regression line
plt.figure(figsize=(10, 6))
sns.regplot(x='pct_bachelors_higher', y='median_hh_income', data=df, line_kws={"color":"red"}, scatter_kws={"alpha":0.5})

# Add title and labels
plt.title('Relationship between Education (Bachelor\'s Degree or Higher) and Income', fontsize=14)
plt.xlabel('Percentage with Bachelor\'s Degree or Higher (%)', fontsize=12)
plt.ylabel('Median Household Income ($)', fontsize=12)

# Show the plot
plt.grid(True)
plt.show()




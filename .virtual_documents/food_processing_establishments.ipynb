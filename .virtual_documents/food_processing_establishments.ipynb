import pandas as pd
import numpy as np
import matplotlib.pyplot as plt
import seaborn as sns


df = pd.read_csv('meat_poultry_egg_establishments.csv')
df.head()


df.dtypes


df_1=pd.read_csv('meat_poultry_egg_establishments.csv',parse_dates=['grant_date','inspection_deadline','reviewed_date'])
df_1[['meat_processing', 'poultry_processing', 'meat_and_poultry_processing']] = df_1[['meat_processing', 'poultry_processing', 'meat_and_poultry_processing']].apply(lambda x: x.map({'t': True, 'f': False}))
df_1.head()


df_1.dtypes


df_2=pd.read_csv('meat_poultry_egg_establishments.csv')
df_2['grant_date']=pd.to_datetime(df_2['grant_date'])
df_2['inspection_deadline']=pd.to_datetime(df_2['inspection_deadline'])
df_2['reviewed_date']=pd.to_datetime(df_2['reviewed_date'])
df_2[['meat_processing','poultry_processing','meat_and_poultry_processing']]=df_2[['meat_processing','poultry_processing','meat_and_poultry_processing']].apply(lambda x: x.map({'t': True, 'f': False}))
df_2['meat_processing']=df_2['meat_processing'].astype(bool)
df_2['poultry_processing']=df_2['poultry_processing'].astype(bool)
df_2['meat_and_poultry_processing']=df_2['meat_and_poultry_processing'].astype(bool)


df_2.dtypes


df_2.head()




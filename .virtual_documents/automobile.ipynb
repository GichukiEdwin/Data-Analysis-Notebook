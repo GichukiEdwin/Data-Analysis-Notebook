import pandas as pd
import numpy as np
import seaborn as sns
import matplotlib.pyplot as plt


cars=sns.load_dataset('mpg')
cars.head()


df=pd.read_csv('data/Automobile.csv')
df.head()


df.tail()


df.shape


df.describe()


df.info()


df.cylinders.value_counts()





df=df[df.cylinders.isin([4,6,8])]


sns.boxplot(df.mpg)


df.mpg.describe()


cars=cars[cars.cylinders.isin([4,6,8])]


sns.boxplot(cars.mpg)


cars.mpg.describe()


sns.boxplot(x=df.origin, y=df.mpg)


sns.boxplot(x='origin',y='mpg',data=df)


sns.boxplot(x='origin',y='mpg',hue='cylinders',data=df)


df.model_year.describe()


cars['newer_model']=cars.model_year<76


sns.boxplot(x='origin',y='mpg',hue='newer_model',data=cars)


sns.boxplot(x='mpg',y='origin',data=cars)


sns.boxplot(x='mpg',y='origin',order=['japan','europe','usa'],data=cars)


sns.boxplot(x='mpg',y='origin',hue='newer_model',hue_order=[True,False],order=['japan','europe','usa'],data=cars)

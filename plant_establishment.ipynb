{
 "cells": [
  {
   "cell_type": "markdown",
   "id": "a5c82c0d-e465-4836-829a-61c576458348",
   "metadata": {},
   "source": [
    "#### load data from database"
   ]
  },
  {
   "cell_type": "code",
   "execution_count": null,
   "id": "9d9fd5d3-ba65-4434-9d49-5a199b7c7492",
   "metadata": {},
   "outputs": [],
   "source": [
    "import psycopg2\n",
    "import pandas as pd\n",
    "\n",
    "# Connect to PostgreSQL\n",
    "conn = psycopg2.connect(\n",
    "    dbname=\"analysis\", \n",
    "    user=\"postgres\", \n",
    "    password=\"0909\", \n",
    "    host=\"localhost\", \n",
    "    port=\"5432\"\n",
    ")\n",
    "\n",
    "# SQL Query to get the data\n",
    "sql = \"SELECT * FROM us_counties_population_est_2019\"\n",
    "\n",
    "# Load data into a pandas DataFrame\n",
    "df = pd.read_sql(sql, conn)\n",
    "\n",
    "# Close connection\n",
    "conn.close()"
   ]
  },
  {
   "cell_type": "code",
   "execution_count": null,
   "id": "3796bb01",
   "metadata": {},
   "outputs": [],
   "source": [
    "df.head()"
   ]
  }
 ],
 "metadata": {
  "kernelspec": {
   "display_name": "Python 3 (ipykernel)",
   "language": "python",
   "name": "python3"
  },
  "language_info": {
   "codemirror_mode": {
    "name": "ipython",
    "version": 3
   },
   "file_extension": ".py",
   "mimetype": "text/x-python",
   "name": "python",
   "nbconvert_exporter": "python",
   "pygments_lexer": "ipython3",
   "version": "3.12.4"
  }
 },
 "nbformat": 4,
 "nbformat_minor": 5
}

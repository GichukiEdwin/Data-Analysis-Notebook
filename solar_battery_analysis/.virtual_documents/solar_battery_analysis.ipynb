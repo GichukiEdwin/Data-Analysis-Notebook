import pandas as pd
file_path = 'energy_analysis_2.xlsx'
df = pd.read_excel(file_path)
print(df.columns)


import pandas as pd

# Load the Excel file with the correct header row
file_path = 'energy_analysis_2.xlsx'
df = pd.read_excel(file_path, header=2)  # Specify that headers are in the third row

# Print column names to verify
print(df.columns)

# Optionally, check the first few rows of the DataFrame
print(df.head())


# Convert 'Hour' to integer if not already
df['Hour'] = df['Hour'].astype(int)

# Ensure 'Date/hour start' is in datetime format
df['Date/hour start'] = pd.to_datetime(df['Date/hour start'])

# Check data types
print(df.dtypes)



# Save to Excel
output_file_path = 'energy_analysis_output_file.xlsx'
df.to_excel(output_file_path, index=False)

# Save to CSV (optional)
output_csv_path = 'energy_analysis_output_file.csv'
df.to_csv(output_csv_path, index=False)


import pandas as pd

# Load the CSV file
input_csv_path = 'energy_analysis_output_file.csv'
df = pd.read_csv(input_csv_path)

# Convert 'Date/hour start' column to PostgreSQL timestamp format
df['Date/hour start'] = pd.to_datetime(df['Date/hour start']).dt.strftime('%Y-%m-%d %H:%M')

# Save the DataFrame to a new CSV file
output_csv_path = 'energy_analysis_data.csv'
df.to_csv(output_csv_path, index=False)

print("Date format conversion complete. New file saved.")



import pandas as pd

# Load the CSV file into a DataFrame
df = pd.read_csv('energy_analysis_data.csv')

# Filter the DataFrame to find rows where electricity usage is greater than 50
outliers = df[df['Electricity usage (kWh)'] > 50]

# Print the rows that have been identified as outliers
print(outliers)



import pandas as pd

# Load the CSV file into a DataFrame
df = pd.read_csv('energy_analysis_data.csv')

# Print summary statistics to understand the range of values
print(df['Solar electricity generation (kWh)'].describe())

# Define a threshold for outliers; you can adjust the value based on your data
outliers = df[df['Solar electricity generation (kWh)'] > 10]  # Example threshold

# Print the rows with potential outliers
print(outliers)


import pandas as pd
import matplotlib.pyplot as plt

# Load the CSV file into a DataFrame
df = pd.read_csv('energy_analysis_data.csv')

# Convert 'Date/hour start' to datetime
df['Date/hour start'] = pd.to_datetime(df['Date/hour start'])

# Aggregate solar generation by day
daily_solar_generation = df.groupby(df['Date/hour start'].dt.date)['Solar electricity generation (kWh)'].sum().reset_index()

# Plotting daily solar generation
plt.figure(figsize=(10, 6))
plt.plot(daily_solar_generation['Date/hour start'], daily_solar_generation['Solar electricity generation (kWh)'])
plt.title('Daily Solar Electricity Generation')
plt.xlabel('Date')
plt.ylabel('Total Solar Generation (kWh)')
plt.grid(True)
plt.show()


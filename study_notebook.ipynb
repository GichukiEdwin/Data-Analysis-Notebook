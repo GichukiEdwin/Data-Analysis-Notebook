{
 "cells": [
  {
   "cell_type": "markdown",
   "id": "55c53a97",
   "metadata": {},
   "source": [
    "# Working with data types\n",
    "## The most basic data types in python are Numeric, String, and Boolean.\n",
    "## Numeric Type in Python consists of,\n",
    "* Integer - This type holds numeric data that is either positive or negative whole numbers\n",
    "* Floating point - These are the variables that hold real numbers and are written with a decimal point dividing the integer and the fractional part.\n",
    "* Complex - This is one that can be expressed in the form of `a + bj` where a and b are real numbers and j satisfies the eqn `i^2=-1`\n",
    "## Strings\n",
    "### A string is a sequence of characters\n",
    "* Single line strings - stores a string using double quotes\n",
    "* **Multi line strings** - Allows storing of strings using the tripple quote syntax\n",
    "\n",
    "## Accepting user inputs - **input() function**\n",
    "### Python provides the inbuilt **input()** function to read the user input from the keyboard.\n",
    "\n"
   ]
  },
  {
   "cell_type": "code",
   "execution_count": 2,
   "id": "ab718bbd-1af0-4926-b8f7-5381ddd5ad32",
   "metadata": {},
   "outputs": [
    {
     "name": "stdout",
     "output_type": "stream",
     "text": [
      "26\n",
      "36.8\n",
      "(5+3j)\n",
      "Python\n",
      "Always code as if the guy who ends up maintaining your code will be a violent psychopath who knows where you live.\n",
      "-John Woods\n"
     ]
    },
    {
     "name": "stdout",
     "output_type": "stream",
     "text": [
      "Please enter your name:  Gichuki\n",
      "Please enter your age:  22\n"
     ]
    },
    {
     "name": "stdout",
     "output_type": "stream",
     "text": [
      "Hello Gichuki! You are 22 years old.\n"
     ]
    }
   ],
   "source": [
    "# integer\n",
    "print(age:=26)\n",
    "# float\n",
    "print(temp:=36.8)\n",
    "# complex\n",
    "number = 5 + 3j\n",
    "print(number)\n",
    "# string\n",
    "language = \"Python\"\n",
    "print(language)\n",
    "# multi-line string\n",
    "quote = \"\"\"Always code as if the guy who ends up maintaining your code will be a violent psychopath who knows where you live.\n",
    "-John Woods\"\"\"\n",
    "print(quote)\n",
    "\n",
    "username=input(\"Please enter your name: \")\n",
    "age=input(\"Please enter your age: \")\n",
    "\n",
    "print(f\"Hello {username}! You are {age} years old.\")"
   ]
  },
  {
   "cell_type": "markdown",
   "id": "a7fdbb5d",
   "metadata": {},
   "source": [
    "# The school math in Python\n",
    "### An arithmetic operator is a mathematical function that takes 2 operands and performs a calculation on them. They include,\n",
    "\n",
    "  * `+ Addition`: Adds values on either side of the operand\n",
    "  * `- Subtraction`: Subtracts the right-hand operand from the left-hand operand\n",
    "  * `* Multiplication`: Multiplies values on either side of the operator\n",
    "  * `/ Division`: Divides the left-hand operand by the right-hand operand\n",
    "  * `% Modulo`: Divides the left-hand operand by the right-hand operand and returns the remainder\n",
    "  * `** Exponent`: Performs exponential (power) calculation on the operands\n",
    "  * `// Truncation or Floor division`: Returns the division of the operands where the result is the quotient\n",
    "\n",
    "### Comparison operator - They are used for comparing values. It returns either `True` or `False` according to the condition. They include,\n",
    "  *  `> Greater than` -  True if the left operand is greater than the right operand\n",
    "  *  `< Less than` - True if the left operand is less than the right operand\n",
    "  *  `== Equal to` - True if the left operand is equal to the right operand\n",
    "  *  `!= Not equal to` - True if operands are not equal\n",
    "  *  `>= Greater than or equal to` - True if the left operand is greater or equal to the right\n",
    "  *  `<= Less than or equal to` - True if the left operand is less than or equal to the right\n",
    "\n",
    "### Logical Operators - This is a symbol or word used to connect 2 or more expressions such that the value of the compound expression produced depends only on that of the original expressions and on the meaning of the operator. They include,\n",
    "  * `and`: Returns True if both the operands are true\n",
    "  * `or`: Returns True if either of the operands is true\n",
    "  * `not`: Returns True if the operand is false\n",
    "\n",
    "### Membership and Identity Operators\n",
    "- Membership operators -They are used to test whether a value or variable is found in a sequence(string, List, Tupple, etc) They include,\n",
    "  * `in`: Returns True if the value is found in the sequence\n",
    "  * `not in`: Returns True if the value is not found in the sequence\n",
    "- Identity operators - When a value is stored, it is given a name(variable), which identifies a memory location where the value is stored.\n",
    "- The `id()` method returns the memory address of the variable.\n",
    "- The 2 identity operators provided by python check if the 2 values are located on the same part of the memory. They include,\n",
    "  * `is` -returns True if the operands are identical(refer to the same object)\n",
    "  * `not is` - returns True if the operands are not identical (do not refer to the same object)\n",
    "\n",
    "### Walrus operator\n",
    "- The walrus operator also called the *the new assignment expression* in python, is a new way to assign to variables within an expression using the notation,\n",
    "```\n",
    "name:=expr\n",
    "Colon and equal sign used together.\n",
    "```\n"
   ]
  },
  {
   "cell_type": "code",
   "execution_count": 1,
   "id": "186d82b6",
   "metadata": {},
   "outputs": [
    {
     "name": "stdout",
     "output_type": "stream",
     "text": [
      "Addition is 8\n",
      "False\n",
      "x and y is False\n",
      "x or y is True\n",
      "not x is False\n",
      "False\n",
      "False\n",
      "True\n",
      "140718126414392\n",
      "140718126414392\n",
      "140718126414552\n",
      "True\n",
      "False\n",
      "False\n",
      "True\n"
     ]
    }
   ],
   "source": [
    "a=5\n",
    "b=3\n",
    "c=a+b\n",
    "print(\"Addition is\", c)\n",
    "\n",
    "age=16\n",
    "required_age=18\n",
    "print(age>required_age)\n",
    "\n",
    "# logical operators\n",
    "x=True\n",
    "y=False\n",
    "print(\"x and y is\", x and y)\n",
    "print(\"x or y is\", x or y)\n",
    "print(\"not x is\", not x)\n",
    "\n",
    "# membership operators\n",
    "language=\"Python\"\n",
    "print(\"x\" in language)\n",
    "print(\"z\" in language)\n",
    "print(\"x\" not in language)\n",
    "\n",
    "# identity operator\n",
    "num1=5\n",
    "num2=5\n",
    "num3=10\n",
    "print(id(num1))\n",
    "print(id(num2))\n",
    "print(id(num3))\n",
    "print(num1 is num2)\n",
    "print(num1 is not num2)\n",
    "print(num1 is num3)\n",
    "print(num1 is not num3)\n",
    "\n",
    "# walrus operator \n",
    "# convectional way\n",
    "name=\"John\"\n",
    "print(name)\n",
    "# walrus way\n",
    "name=\"John\"\n",
    "print(name:=\"Jake\")"
   ]
  },
  {
   "cell_type": "markdown",
   "id": "ad486761",
   "metadata": {},
   "source": [
    "# Decision Making\n",
    "\n",
    "### To make decisions, we use a concept called *Conditionals*.\n",
    "- In python, the conditional statements are,\n",
    "  * If statement\n",
    "  * If-else statement\n",
    "  * If-elif-else statement\n",
    "  * Nested If-else statement\n",
    "\n",
    "#### If-else statement\n",
    "- Used to  check whether a particular condition is True or False. If the condition evaluates to True, then **ONLY** the statements under the if statements will execute, otherwise they will be simply ignored, and statements outside the if block are executed.\n",
    "```\n",
    " if condition:\n",
    "    # Statements to be executed if the condition evaluates to True\n",
    "```\n",
    "\n",
    "#### If-else statement\n",
    "- An else statement is executed if the condition (boolean expression) is tested by the if block evaluates to false.\n",
    "```\n",
    "if condition:\n",
    "    # Statements to be executed if the condition evaluates to true\n",
    "else:\n",
    "    # Statements to be executed if the condition evaluates to false\n",
    "```\n",
    "\n",
    "#### If-elif-else statement\n",
    "- The `if-elif-else` statement is used for handling multiple conditions ie, when ther is more than one condition to check.\n",
    "- The `elif` statement allows you to check multiple expressions for True and execute a block of code as soon as one of the conditions evaluates to True\n",
    "```\n",
    "if condition:\n",
    "    # statements\n",
    "elif condition2:\n",
    "    # statements\n",
    "elif condition3:\n",
    "    # statements\n",
    "else:\n",
    "    # statements\n",
    "```"
   ]
  },
  {
   "cell_type": "code",
   "execution_count": 4,
   "id": "e75c0b28-5edb-4026-a573-289b4f748c02",
   "metadata": {},
   "outputs": [
    {
     "name": "stdin",
     "output_type": "stream",
     "text": [
      "Enter your marks:  56\n"
     ]
    },
    {
     "name": "stdout",
     "output_type": "stream",
     "text": [
      "Grade - Average\n"
     ]
    }
   ],
   "source": [
    "marks=int(input(\"Enter your marks: \"))\n",
    "if marks>=90:\n",
    "    print(\"Grade - Excellent\")\n",
    "elif marks<90 and marks>=75:\n",
    "    print(\"Grade - First class\")\n",
    "elif marks<75 and marks >=40:\n",
    "    print(\"Grade - Average\")\n",
    "else:\n",
    "    print(\"Grade - Fail\")"
   ]
  },
  {
   "cell_type": "code",
   "execution_count": null,
   "id": "f2dd9c19-08c6-482b-b4c4-a82ff0fa4177",
   "metadata": {},
   "outputs": [],
   "source": []
  }
 ],
 "metadata": {
  "kernelspec": {
   "display_name": "Python 3 (ipykernel)",
   "language": "python",
   "name": "python3"
  },
  "language_info": {
   "codemirror_mode": {
    "name": "ipython",
    "version": 3
   },
   "file_extension": ".py",
   "mimetype": "text/x-python",
   "name": "python",
   "nbconvert_exporter": "python",
   "pygments_lexer": "ipython3",
   "version": "3.12.4"
  }
 },
 "nbformat": 4,
 "nbformat_minor": 5
}

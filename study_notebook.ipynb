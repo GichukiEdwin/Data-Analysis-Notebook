{
 "cells": [
  {
   "cell_type": "markdown",
   "id": "55c53a97",
   "metadata": {},
   "source": [
    "# Working with data types\n",
    "## The most basic data types in python are Numeric, String, and Boolean.\n",
    "## Numeric Type in Python consists of,\n",
    "* Integer - This type holds numeric data that is either positive or negative whole numbers\n",
    "* Floating point - These are the variables that hold real numbers and are written with a decimal point dividing the integer and the fractional part.\n",
    "* Complex - This is one that can be expressed in the form of `a + bj` where a and b are real numbers and j satisfies the eqn `i^2=-1`\n",
    "## Strings\n",
    "### A string is a sequence of characters\n",
    "* Single line strings - stores a string using double quotes\n",
    "* **Multi line strings** - Allows storing of strings using the tripple quote syntax\n",
    "\n",
    "## Accepting user inputs - **input() function**\n",
    "### Python provides the inbuilt **input()** function to read the user input from the keyboard.\n",
    "\n"
   ]
  },
  {
   "cell_type": "code",
   "execution_count": 2,
   "id": "ab718bbd-1af0-4926-b8f7-5381ddd5ad32",
   "metadata": {},
   "outputs": [
    {
     "name": "stdout",
     "output_type": "stream",
     "text": [
      "26\n",
      "36.8\n",
      "(5+3j)\n",
      "Python\n",
      "Always code as if the guy who ends up maintaining your code will be a violent psychopath who knows where you live.\n",
      "-John Woods\n"
     ]
    },
    {
     "name": "stdout",
     "output_type": "stream",
     "text": [
      "Please enter your name:  Gichuki\n",
      "Please enter your age:  22\n"
     ]
    },
    {
     "name": "stdout",
     "output_type": "stream",
     "text": [
      "Hello Gichuki! You are 22 years old.\n"
     ]
    }
   ],
   "source": [
    "# integer\n",
    "print(age:=26)\n",
    "# float\n",
    "print(temp:=36.8)\n",
    "# complex\n",
    "number = 5 + 3j\n",
    "print(number)\n",
    "# string\n",
    "language = \"Python\"\n",
    "print(language)\n",
    "# multi-line string\n",
    "quote = \"\"\"Always code as if the guy who ends up maintaining your code will be a violent psychopath who knows where you live.\n",
    "-John Woods\"\"\"\n",
    "print(quote)\n",
    "\n",
    "username=input(\"Please enter your name: \")\n",
    "age=input(\"Please enter your age: \")\n",
    "\n",
    "print(f\"Hello {username}! You are {age} years old.\")"
   ]
  },
  {
   "cell_type": "markdown",
   "id": "a7fdbb5d",
   "metadata": {},
   "source": [
    "# The school math in Python\n",
    "### An arithmetic operator is a mathematical function that takes 2 operands and performs a calculation on them. They include,\n",
    "\n",
    "  * `+ Addition`: Adds values on either side of the operand\n",
    "  * `- Subtraction`: Subtracts the right-hand operand from the left-hand operand\n",
    "  * `* Multiplication`: Multiplies values on either side of the operator\n",
    "  * `/ Division`: Divides the left-hand operand by the right-hand operand\n",
    "  * `% Modulo`: Divides the left-hand operand by the right-hand operand and returns the remainder\n",
    "  * `** Exponent`: Performs exponential (power) calculation on the operands\n",
    "  * `// Truncation or Floor division`: Returns the division of the operands where the result is the quotient\n",
    "\n",
    "### Comparison operator - They are used for comparing values. It returns either `True` or `False` according to the condition. They include,\n",
    "  *  `> Greater than` -  True if the left operand is greater than the right operand\n",
    "  *  `< Less than` - True if the left operand is less than the right operand\n",
    "  *  `== Equal to` - True if the left operand is equal to the right operand\n",
    "  *  `!= Not equal to` - True if operands are not equal\n",
    "  *  `>= Greater than or equal to` - True if the left operand is greater or equal to the right\n",
    "  *  `<= Less than or equal to` - True if the left operand is less than or equal to the right\n",
    "\n",
    "### Logical Operators - This is a symbol or word used to connect 2 or more expressions such that the value of the compound expression produced depends only on that of the original expressions and on the meaning of the operator. They include,\n",
    "  * `and`: Returns True if both the operands are true\n",
    "  * `or`: Returns True if either of the operands is true\n",
    "  * `not`: Returns True if the operand is false\n",
    "\n",
    "### Membership and Identity Operators\n",
    "- Membership operators -They are used to test whether a value or variable is found in a sequence(string, List, Tupple, etc) They include,\n",
    "  * `in`: Returns True if the value is found in the sequence\n",
    "  * `not in`: Returns True if the value is not found in the sequence\n",
    "- Identity operators - When a value is stored, it is given a name(variable), which identifies a memory location where the value is stored.\n",
    "- The `id()` method returns the memory address of the variable.\n",
    "- The 2 identity operators provided by python check if the 2 values are located on the same part of the memory. They include,\n",
    "  * `is` -returns True if the operands are identical(refer to the same object)\n",
    "  * `not is` - returns True if the operands are not identical (do not refer to the same object)\n",
    "\n",
    "### Walrus operator\n",
    "- The walrus operator also called the *the new assignment expression* in python, is a new way to assign to variables within an expression using the notation,\n",
    "```\n",
    "name:=expr\n",
    "Colon and equal sign used together.\n",
    "```\n"
   ]
  },
  {
   "cell_type": "code",
   "execution_count": 1,
   "id": "186d82b6",
   "metadata": {},
   "outputs": [
    {
     "name": "stdout",
     "output_type": "stream",
     "text": [
      "Addition is 8\n",
      "False\n",
      "x and y is False\n",
      "x or y is True\n",
      "not x is False\n",
      "False\n",
      "False\n",
      "True\n",
      "140718126414392\n",
      "140718126414392\n",
      "140718126414552\n",
      "True\n",
      "False\n",
      "False\n",
      "True\n"
     ]
    }
   ],
   "source": [
    "a=5\n",
    "b=3\n",
    "c=a+b\n",
    "print(\"Addition is\", c)\n",
    "\n",
    "age=16\n",
    "required_age=18\n",
    "print(age>required_age)\n",
    "\n",
    "# logical operators\n",
    "x=True\n",
    "y=False\n",
    "print(\"x and y is\", x and y)\n",
    "print(\"x or y is\", x or y)\n",
    "print(\"not x is\", not x)\n",
    "\n",
    "# membership operators\n",
    "language=\"Python\"\n",
    "print(\"x\" in language)\n",
    "print(\"z\" in language)\n",
    "print(\"x\" not in language)\n",
    "\n",
    "# identity operator\n",
    "num1=5\n",
    "num2=5\n",
    "num3=10\n",
    "print(id(num1))\n",
    "print(id(num2))\n",
    "print(id(num3))\n",
    "print(num1 is num2)\n",
    "print(num1 is not num2)\n",
    "print(num1 is num3)\n",
    "print(num1 is not num3)\n",
    "\n",
    "# walrus operator \n",
    "# convectional way\n",
    "name=\"John\"\n",
    "print(name)\n",
    "# walrus way\n",
    "name=\"John\"\n",
    "print(name:=\"Jake\")"
   ]
  },
  {
   "cell_type": "markdown",
   "id": "ad486761",
   "metadata": {},
   "source": [
    "# Decision Making\n",
    "\n",
    "### To make decisions, we use a concept called *Conditionals*.\n",
    "- In python, the conditional statements are,\n",
    "  * If statement\n",
    "  * If-else statement\n",
    "  * If-elif-else statement\n",
    "  * Nested If-else statement\n",
    "\n",
    "#### If-else statement\n",
    "- Used to  check whether a particular condition is True or False. If the condition evaluates to True, then **ONLY** the statements under the if statements will execute, otherwise they will be simply ignored, and statements outside the if block are executed.\n",
    "```\n",
    " if condition:\n",
    "    # Statements to be executed if the condition evaluates to True\n",
    "```\n",
    "\n",
    "#### If-else statement\n",
    "- An else statement is executed if the condition (boolean expression) is tested by the if block evaluates to false.\n",
    "```\n",
    "if condition:\n",
    "    # Statements to be executed if the condition evaluates to true\n",
    "else:\n",
    "    # Statements to be executed if the condition evaluates to false\n",
    "```\n",
    "\n",
    "#### If-elif-else statement\n",
    "- The `if-elif-else` statement is used for handling multiple conditions ie, when ther is more than one condition to check.\n",
    "- The `elif` statement allows you to check multiple expressions for True and execute a block of code as soon as one of the conditions evaluates to True\n",
    "```\n",
    "if condition:\n",
    "    # statements\n",
    "elif condition2:\n",
    "    # statements\n",
    "elif condition3:\n",
    "    # statements\n",
    "else:\n",
    "    # statements\n",
    "```\n",
    "\n",
    "#### Nested If-else\n",
    "- Nested if construct is used in a situation where you want to check for another condition after a condition resolves to True.\n",
    "- You can have an if...elif...else construct inside another if...elif...else construct.\n",
    "- Any number of these statements can be nested inside one another. Indetation is the only way to figure out the level of nesting."
   ]
  },
  {
   "cell_type": "code",
   "execution_count": 8,
   "id": "e75c0b28-5edb-4026-a573-289b4f748c02",
   "metadata": {},
   "outputs": [
    {
     "name": "stdin",
     "output_type": "stream",
     "text": [
      "Enter your marks:  27\n"
     ]
    },
    {
     "name": "stdout",
     "output_type": "stream",
     "text": [
      "Grade - Fail\n"
     ]
    },
    {
     "name": "stdin",
     "output_type": "stream",
     "text": [
      "Enter your username:  Gichuki\n",
      "Enter your password:  12345\n"
     ]
    },
    {
     "name": "stdout",
     "output_type": "stream",
     "text": [
      "Login successful\n"
     ]
    },
    {
     "name": "stdin",
     "output_type": "stream",
     "text": [
      "Which color is the light indicating?:  green\n"
     ]
    },
    {
     "name": "stdout",
     "output_type": "stream",
     "text": [
      "Please keep going\n",
      "User one scored the highest points\n"
     ]
    },
    {
     "name": "stdin",
     "output_type": "stream",
     "text": [
      "Enter a number:  7\n"
     ]
    },
    {
     "name": "stdout",
     "output_type": "stream",
     "text": [
      "The number is odd\n"
     ]
    },
    {
     "name": "stdout",
     "output_type": "stream",
     "text": [
      "Enter your username:  Gichuki\n",
      "Enter your password:  12345\n"
     ]
    },
    {
     "name": "stdout",
     "output_type": "stream",
     "text": [
      "Login successful\n"
     ]
    },
    {
     "name": "stdout",
     "output_type": "stream",
     "text": [
      "Which color is the light indicating?:  red\n"
     ]
    },
    {
     "name": "stdout",
     "output_type": "stream",
     "text": [
      "Please stop!\n"
     ]
    }
   ],
   "source": [
    "marks=int(input(\"Enter your marks: \"))\n",
    "if marks>=90:\n",
    "    print(\"Grade - Excellent\")\n",
    "elif marks<90 and marks>=75:\n",
    "    print(\"Grade - First class\")\n",
    "elif marks<75 and marks >=40:\n",
    "    print(\"Grade - Average\")\n",
    "else:\n",
    "    print(\"Grade - Fail\")\n",
    "\n",
    "# nested if-else\n",
    "username=input(\"Enter your username: \")\n",
    "password=input(\"Enter your password: \")\n",
    "if username==\"Gichuki\":\n",
    "    if password==\"12345\":\n",
    "        print(\"Login successful\")\n",
    "    else:\n",
    "        print(\"Incorrect password\")\n",
    "else:\n",
    "    print(\"Incorrect username\")\n",
    "\n",
    "# traffic light example\n",
    "light=input(\"Which color is the light indicating?: \")\n",
    "if light==\"green\":\n",
    "    print(\"Please keep going\")\n",
    "elif light==\"yellow\":\n",
    "    print(\"Please go slow\")\n",
    "else:\n",
    "    print(\"Please stop!\")\n",
    "\n",
    "# game example\n",
    "user1=8\n",
    "user2=5\n",
    "user3=2\n",
    "if(user1>user2) and (user1>user3):\n",
    "    print(\"User one scored the highest points\")\n",
    "elif(user2>user1) and (user2>user3):\n",
    "    print(\"User Two scored the highest points\")\n",
    "else:\n",
    "    print(\"User Three scored the highest points\")\n",
    "\n",
    "# check if a number is even or odd\n",
    "num=int(input(\"Enter a number: \"))\n",
    "if num%2==0:\n",
    "    print(\"The number is even\")\n",
    "else:\n",
    "    print(\"The number is odd\")"
   ]
  },
  {
   "cell_type": "markdown",
   "id": "82be98f3",
   "metadata": {},
   "source": [
    "# Operation on numbers\n",
    "\n",
    "#### Python allows us to store numbers with the help of its numeric data type\n",
    "#### Python provides various operations to manipulate and perform operations on numbers such as,\n",
    "* Arithmetic Operators(Addition, Subtraction, Division, Modulo, etc)\n",
    "* Comparison Operators(`>,<, >=, <=, etc`)\n",
    "* And more.\n",
    "- However Python provide modules to manipulate and perform operations\n",
    "- **Modules** are pre-written codes with some functionality\n",
    "- In programming, when you want to create an application and add some functionality to it, there are chances that someone would already have created that logic, so it's a smart move to use that code according to your requirements rather than creating something from scratch, this is called *reusability*.\n",
    "- Python has tons of modules already available for use\n",
    "- Import syntax is\n",
    "```\n",
    "import module_name\n",
    "```\n",
    "- The above syntax imports the whole module but this may affect the speed and performance of our program, it's therefore important to import just the required part from the module into our file, like so,\n",
    "```\n",
    "from module_name import something\n",
    "```\n",
    "### important math module functions\n",
    "1. **ceil(x)** - Returns the smallest integer greater than or equal to x\n",
    "2. **floor(x)** - Returns the largest integer less than or equal to x\n",
    "3. **fabs(x)** - Returns the absolute value of x\n",
    "4. **factorial(x)** - Returns the factorial of x\n",
    "5. **fmod(x,y)** - Returns the remainder when x is divided by y\n",
    "6. **log2(x)** - Returns the base-2 logarithm of x\n",
    "7. **log10(x)** - Returns the base-10 logarithm of x\n",
    "8. **pow(x,y)** - Returns x raised to the power of y\n",
    "9. **sqrt(x)** - Returns the square root of x\n",
    "10. **trunc(x)** - Returns the truncated integer value of x\n",
    "\n",
    "### Trigonometry\n",
    "The math module contains functions for calculating various trigonometric ratios for a given angle\n",
    "- The angle conversion functions are:\n",
    "  **degrees()** - converts radians to degrees\n",
    "  **radians()** - converts degrees to radians\n",
    "\n",
    "### Constants\n",
    "- A mathematical constant is a key number whose value is fixed by an unambiguous defination, often referred to by a symbol\n",
    "  * ***Pi***(π) - the ratio of a circles circumfrence to its diameter \n",
    "  * ***Tau***(τ) - the ratio of a circles circumfrence to its radius \n",
    "  * ***Euler's number***(e) - a constant that is the base of the natural logarithm, commonly used rates of growth or decay\n",
    "  * ***Infinity***(∞) - can't be defined by a number, represents something that is never-ending or boundless\n",
    "\n",
    "### Random module\n",
    "- The random moduleis used to generate random numbers\n",
    "- It defines a set of functions that are used to generate or manipulate random numbers\n",
    "  1. `seed(x)` - initialize the random number generator\n",
    "  2. `randrange(x, y, step)` - returns a random number betweem a given range\n",
    "  3. `randint(x, y)` - returns a random number betweem a given range\n",
    "  4. `choice(sequence)` - takes a sequence and returns the sequence in a random order\n",
    "  5. `random()` - returns a random float number betweem 0 and 1\n",
    "  6. etc..."
   ]
  },
  {
   "cell_type": "code",
   "execution_count": 9,
   "id": "be5bfb5f",
   "metadata": {},
   "outputs": [
    {
     "name": "stdout",
     "output_type": "stream",
     "text": [
      "4.0\n",
      "5.0\n",
      "120\n",
      "3.141592653589793\n",
      "5\n",
      "6\n",
      "32.0\n",
      "6\n",
      "0.8939966636005579\n",
      "-0.4480736161291701\n",
      "-1.995200412208242\n",
      "3.141592653589793\n",
      "6.283185307179586\n",
      "2.718281828459045\n",
      "Positive infinity:  inf\n",
      "Negative infinity:  -inf\n",
      "0.33995590137914744\n",
      "90\n",
      "3\n",
      "7\n",
      "1\n",
      "5\n",
      "6\n",
      "1\n"
     ]
    }
   ],
   "source": [
    "# math module\n",
    "import math\n",
    "print(math.sqrt(16))\n",
    "print(math.fabs(-5))\n",
    "print(math.factorial(5))\n",
    "print(math.pi)\n",
    "print(math.floor(5.9))\n",
    "print(math.ceil(5.9))\n",
    "print(math.pow(2,5))\n",
    "print(math.trunc(6.9999))\n",
    "\n",
    "# trigometric functions\n",
    "print(math.sin(90))\n",
    "print(math.cos(90))\n",
    "print(math.tan(90))\n",
    "\n",
    "# constants\n",
    "print(math.pi)\n",
    "print(math.tau)\n",
    "print(math.e)\n",
    "print(\"Positive infinity: \",math.inf)\n",
    "print(\"Negative infinity: \",-math.inf)\n",
    "\n",
    "# random module\n",
    "import random\n",
    "# generate a random number between 0 and 1\n",
    "print(random.random())\n",
    "# generate a random number between 1 and 100\n",
    "print(random.randint(1,100))\n",
    "# generate a random number between 1 and 10\n",
    "print(random.randrange(1,10))\n",
    "# generate a random number between 1 and 10 with step size of 2\n",
    "print(random.randrange(1,10,2))\n",
    "\n",
    "# more examples on step size\n",
    "print(random.randrange(1,10,3))\n",
    "print(random.randrange(1,10,4))\n",
    "print(random.randrange(1,10,5))\n",
    "print(random.randrange(1,10,6))\n"
   ]
  },
  {
   "cell_type": "markdown",
   "id": "4c93a98a",
   "metadata": {},
   "source": [
    "## Guess the number - a simple game for python beginners"
   ]
  },
  {
   "cell_type": "code",
   "execution_count": 10,
   "id": "6e8202ae",
   "metadata": {},
   "outputs": [
    {
     "name": "stdin",
     "output_type": "stream",
     "text": [
      "Guess a number between 1 and 10:  4\n"
     ]
    },
    {
     "name": "stdout",
     "output_type": "stream",
     "text": [
      "Your guess is too high. The number was 1\n"
     ]
    }
   ],
   "source": [
    "import random\n",
    "generated_number=random.randint(1,10)\n",
    "user_guess=int(input(\"Guess a number between 1 and 10: \"))\n",
    "if user_guess==generated_number:\n",
    "    print(\"You guessed it right!\")\n",
    "elif user_guess<generated_number:\n",
    "    print(\"Your guess is too low. The number was\",generated_number)\n",
    "else:\n",
    "    print(\"Your guess is too high. The number was\",generated_number)\n"
   ]
  },
  {
   "cell_type": "code",
   "execution_count": null,
   "id": "6a40d945-7775-4540-bb7d-8b92f62dac32",
   "metadata": {},
   "outputs": [],
   "source": []
  }
 ],
 "metadata": {
  "kernelspec": {
   "display_name": "Python 3 (ipykernel)",
   "language": "python",
   "name": "python3"
  },
  "language_info": {
   "codemirror_mode": {
    "name": "ipython",
    "version": 3
   },
   "file_extension": ".py",
   "mimetype": "text/x-python",
   "name": "python",
   "nbconvert_exporter": "python",
   "pygments_lexer": "ipython3",
   "version": "3.12.4"
  }
 },
 "nbformat": 4,
 "nbformat_minor": 5
}

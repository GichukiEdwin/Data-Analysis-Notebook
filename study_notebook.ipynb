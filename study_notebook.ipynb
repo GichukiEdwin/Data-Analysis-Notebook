{
 "cells": [
  {
   "cell_type": "markdown",
   "id": "55c53a97",
   "metadata": {},
   "source": [
    "# Working with data types\n",
    "## The most basic data types in python are Numeric, String, and Boolean.\n",
    "## Numeric Type in Python consists of,\n",
    "* Integer - This type holds numeric data that is either positive or negative whole numbers\n",
    "* Floating point - These are the variables that hold real numbers and are written with a decimal point dividing the integer and the fractional part.\n",
    "* Complex - This is one that can be expressed in the form of `a + bj` where a and b are real numbers and j satisfies the eqn `i^2=-1`\n",
    "## Strings\n",
    "### A string is a sequence of characters\n",
    "* Single line strings - stores a string using double quotes\n",
    "* **Multi line strings** - Allows storing of strings using the tripple quote syntax\n",
    "\n",
    "## Accepting user inputs - **input() function**\n",
    "### Python provides the inbuilt **input()** function to read the user input from the keyboard.\n",
    "\n"
   ]
  },
  {
   "cell_type": "code",
   "execution_count": null,
   "id": "ab718bbd-1af0-4926-b8f7-5381ddd5ad32",
   "metadata": {},
   "outputs": [],
   "source": [
    "# integer\n",
    "print(age:=26)\n",
    "# float\n",
    "print(temp:=36.8)\n",
    "# complex\n",
    "number = 5 + 3j\n",
    "print(number)\n",
    "# string\n",
    "language = \"Python\"\n",
    "print(language)\n",
    "# multi-line string\n",
    "quote = \"\"\"Always code as if the guy who ends up maintaining your code will be a violent psychopath who knows where you live.\n",
    "-John Woods\"\"\"\n",
    "print(quote)\n",
    "\n",
    "username=input(\"Please enter your name: \")\n",
    "age=input(\"Please enter your age: \")\n",
    "\n",
    "print(f\"Hello {username}! You are {age} years old.\")"
   ]
  },
  {
   "cell_type": "markdown",
   "id": "a7fdbb5d",
   "metadata": {},
   "source": [
    "# The school math in Python\n",
    "### An arithmetic operator is a mathematical function that takes 2 operands and performs a calculation on them. They include,\n",
    "\n",
    "  * `+ Addition`: Adds values on either side of the operand\n",
    "  * `- Subtraction`: Subtracts the right-hand operand from the left-hand operand\n",
    "  * `* Multiplication`: Multiplies values on either side of the operator\n",
    "  * `/ Division`: Divides the left-hand operand by the right-hand operand\n",
    "  * `% Modulo`: Divides the left-hand operand by the right-hand operand and returns the remainder\n",
    "  * `** Exponent`: Performs exponential (power) calculation on the operands\n",
    "  * `// Truncation or Floor division`: Returns the division of the operands where the result is the quotient\n",
    "\n",
    "### Comparison operator - They are used for comparing values. It returns either `True` or `False` according to the condition. They include,\n",
    "  *  `> Greater than` -  True if the left operand is greater than the right operand\n",
    "  *  `< Less than` - True if the left operand is less than the right operand\n",
    "  *  `== Equal to` - True if the left operand is equal to the right operand\n",
    "  *  `!= Not equal to` - True if operands are not equal\n",
    "  *  `>= Greater than or equal to` - True if the left operand is greater or equal to the right\n",
    "  *  `<= Less than or equal to` - True if the left operand is less than or equal to the right\n",
    "\n",
    "### Logical Operators - This is a symbol or word used to connect 2 or more expressions such that the value of the compound expression produced depends only on that of the original expressions and on the meaning of the operator. They include,\n",
    "  * `and`: Returns True if both the operands are true\n",
    "  * `or`: Returns True if either of the operands is true\n",
    "  * `not`: Returns True if the operand is false\n",
    "\n",
    "### Membership and Identity Operators\n",
    "- Membership operators -They are used to test whether a value or variable is found in a sequence(string, List, Tupple, etc) They include,\n",
    "  * `in`: Returns True if the value is found in the sequence\n",
    "  * `not in`: Returns True if the value is not found in the sequence"
   ]
  },
  {
   "cell_type": "code",
   "execution_count": 7,
   "id": "186d82b6",
   "metadata": {},
   "outputs": [
    {
     "name": "stdout",
     "output_type": "stream",
     "text": [
      "Addition is 8\n",
      "False\n",
      "x and y is False\n",
      "x or y is True\n",
      "not x is False\n",
      "False\n",
      "False\n",
      "True\n"
     ]
    }
   ],
   "source": [
    "a=5\n",
    "b=3\n",
    "c=a+b\n",
    "print(\"Addition is\", c)\n",
    "\n",
    "age=16\n",
    "required_age=18\n",
    "print(age>required_age)\n",
    "\n",
    "# logical operators\n",
    "x=True\n",
    "y=False\n",
    "print(\"x and y is\", x and y)\n",
    "print(\"x or y is\", x or y)\n",
    "print(\"not x is\", not x)\n",
    "\n",
    "# membership operators\n",
    "language=\"Python\"\n",
    "print(\"x\" in language)\n",
    "print(\"z\" in language)\n",
    "print(\"x\" not in language)"
   ]
  },
  {
   "cell_type": "markdown",
   "id": "ad486761",
   "metadata": {},
   "source": []
  }
 ],
 "metadata": {
  "kernelspec": {
   "display_name": "Python 3 (ipykernel)",
   "language": "python",
   "name": "python3"
  },
  "language_info": {
   "codemirror_mode": {
    "name": "ipython",
    "version": 3
   },
   "file_extension": ".py",
   "mimetype": "text/x-python",
   "name": "python",
   "nbconvert_exporter": "python",
   "pygments_lexer": "ipython3",
   "version": "3.12.4"
  }
 },
 "nbformat": 4,
 "nbformat_minor": 5
}
